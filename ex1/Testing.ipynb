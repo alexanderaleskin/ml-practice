{
 "cells": [
  {
   "cell_type": "code",
   "execution_count": 14,
   "metadata": {
    "collapsed": true
   },
   "outputs": [],
   "source": [
    "import numpy as np\n",
    "import matplotlib.pyplot as plt\n",
    "import time"
   ]
  },
  {
   "cell_type": "code",
   "execution_count": 7,
   "metadata": {
    "collapsed": false
   },
   "outputs": [],
   "source": [
    "import sys\n",
    "sys.path.remove('/home/alex/my python/prak/lab1')"
   ]
  },
  {
   "cell_type": "code",
   "execution_count": 10,
   "metadata": {
    "collapsed": false
   },
   "outputs": [
    {
     "data": {
      "text/plain": [
       "['',\n",
       " '/home/alex/anaconda3/lib/python34.zip',\n",
       " '/home/alex/anaconda3/lib/python3.4',\n",
       " '/home/alex/anaconda3/lib/python3.4/plat-linux',\n",
       " '/home/alex/anaconda3/lib/python3.4/lib-dynload',\n",
       " '/home/alex/anaconda3/lib/python3.4/site-packages',\n",
       " '/home/alex/anaconda3/lib/python3.4/site-packages/Sphinx-1.3.1-py3.4.egg',\n",
       " '/home/alex/anaconda3/lib/python3.4/site-packages/cryptography-0.9.1-py3.4-linux-i686.egg',\n",
       " '/home/alex/anaconda3/lib/python3.4/site-packages/setuptools-17.1.1-py3.4.egg',\n",
       " '/home/alex/anaconda3/lib/python3.4/site-packages/IPython/extensions',\n",
       " '/home/alex/my python/prak/lab1/ee']"
      ]
     },
     "execution_count": 10,
     "metadata": {},
     "output_type": "execute_result"
    }
   ],
   "source": [
    "from importlib import reload\n",
    "sys.path.append('/home/alex/my python/prak/lab1/ee')\n",
    "sys.path"
   ]
  },
  {
   "cell_type": "code",
   "execution_count": 98,
   "metadata": {
    "collapsed": false
   },
   "outputs": [
    {
     "name": "stdout",
     "output_type": "stream",
     "text": [
      "The slowest run took 4.15 times longer than the fastest. This could mean that an intermediate result is being cached \n",
      "1000000 loops, best of 3: 1.46 µs per loop\n"
     ]
    }
   ],
   "source": [
    "def func():\n",
    "    for i in range(10):\n",
    "        i*i\n",
    "    return i\n",
    "\n",
    "%timeit func()"
   ]
  },
  {
   "cell_type": "code",
   "execution_count": null,
   "metadata": {
    "collapsed": false
   },
   "outputs": [],
   "source": []
  },
  {
   "cell_type": "markdown",
   "metadata": {},
   "source": [
    "# Testing 1 exersize"
   ]
  },
  {
   "cell_type": "code",
   "execution_count": 19,
   "metadata": {
    "collapsed": true
   },
   "outputs": [],
   "source": [
    "import exersize1 as ex1"
   ]
  },
  {
   "cell_type": "code",
   "execution_count": 24,
   "metadata": {
    "collapsed": false
   },
   "outputs": [],
   "source": [
    "t1 = np.random.randint(20, size = (10, 10))\n",
    "t2 = np.random.randint(-10, 10, size = (50, 50))\n",
    "t3 = np.random.randint(10, size = (100, 100))\n",
    "t4 = np.random.randint(10, size = (500, 500))\n",
    "t5 = np.random.randint(10, size = (1000, 1000))\n",
    "test_list =[t1, t2, t3, t4, t5]"
   ]
  },
  {
   "cell_type": "code",
   "execution_count": 25,
   "metadata": {
    "collapsed": false
   },
   "outputs": [],
   "source": [
    "import time\n",
    "reload(ex1)\n",
    "vec = np.zeros((5))\n",
    "non_vec = np.zeros((5))\n",
    "extra = np.zeros((5))\n",
    "x = np.zeros((5))\n",
    "timer = np.zeros((3))\n",
    "for i in range(len(test_list)):\n",
    "    x[i] = test_list[i].shape[0]\n",
    "    for j in range(10000//((i+1)**3)):\n",
    "        start = time.time()\n",
    "        ex1.var_vec(test_list[i])\n",
    "        end = time.time()\n",
    "        timer[0] += end - start\n",
    "    \n",
    "        start = time.time()\n",
    "        ex1.var_non_vec(test_list[i])\n",
    "        end = time.time()\n",
    "        timer[1] += end - start\n",
    "        \n",
    "        start = time.time()\n",
    "        ex1.var_extra(test_list[i])\n",
    "        end = time.time()\n",
    "        timer[2] += end - start\n",
    "    timer /= j + 1\n",
    "    #print(end-start, j)\n",
    "    vec[i] = timer[0]\n",
    "    non_vec[i] = timer[1]\n",
    "    extra[i] = timer [2]\n"
   ]
  },
  {
   "cell_type": "code",
   "execution_count": 26,
   "metadata": {
    "collapsed": false
   },
   "outputs": [
    {
     "data": {
      "text/plain": [
       "array([  1.11791611e-05,   1.13441255e-05,   1.16764408e-05,\n",
       "         1.62414626e-05,   2.52131272e-05])"
      ]
     },
     "execution_count": 26,
     "metadata": {},
     "output_type": "execute_result"
    }
   ],
   "source": [
    "vec"
   ]
  },
  {
   "cell_type": "code",
   "execution_count": 27,
   "metadata": {
    "collapsed": false
   },
   "outputs": [],
   "source": [
    "plt.plot(x, vec, 'rp-', x, non_vec,'bp-', x, extra, 'gp-')\n",
    "plt.title(\"Speeds of algorithms in 1th exersize\")\n",
    "plt.xlabel('elements on diagonal of array')\n",
    "plt.ylabel('time, s')\n",
    "plt.legend(['Vectorized variant', 'Non vectorized variant', 'Mixed variant'], loc='upper left')\n",
    "plt.show()\n",
    "#plt.imsave('/home/alex/my python/prak/lab1/foto', format = 'pdf')"
   ]
  },
  {
   "cell_type": "markdown",
   "metadata": {
    "collapsed": false
   },
   "source": [
    "## Testint ex2"
   ]
  },
  {
   "cell_type": "code",
   "execution_count": 115,
   "metadata": {
    "collapsed": false
   },
   "outputs": [],
   "source": [
    "import exersize2 as ex2\n"
   ]
  },
  {
   "cell_type": "code",
   "execution_count": 130,
   "metadata": {
    "collapsed": false
   },
   "outputs": [],
   "source": [
    "max_size1 = 50\n",
    "size1 = np.array([10, 50, 100, 200])\n",
    "x1 = []\n",
    "y1 = []\n",
    "X = np.random.rand(max_size1, max_size1)\n",
    "for i in range(size1.size):\n",
    "    x1 += [np.random.randint(0, max_size1, size = (size1[i]))]\n",
    "    y1 += [np.random.randint(0, max_size1, size = (size1[i]))]\n"
   ]
  },
  {
   "cell_type": "code",
   "execution_count": 132,
   "metadata": {
    "collapsed": false
   },
   "outputs": [],
   "source": [
    "reload(ex2)\n",
    "vec = np.zeros((size1.size))\n",
    "non_vec = np.zeros((size1.size))\n",
    "extra = np.zeros((size1.size))\n",
    "timer = np.zeros((3))\n",
    "#x = np.zeros((size1.size))\n",
    "for i in range(size1.size):\n",
    "    for j in range(10000//((i+1)**3)):\n",
    "        start = time.time()\n",
    "        ex2.var_vec(X, x1[i], y1[i])\n",
    "        end = time.time()\n",
    "        timer[0] += (end - start)\n",
    "    \n",
    "        start = time.time()\n",
    "        ex2.var_non_vec(X, x1[i], y1[i])\n",
    "        end = time.time()\n",
    "        timer[1] += end - start\n",
    "        \n",
    "        start = time.time()\n",
    "        ex2.var_extra(X, x1[i], y1[i])\n",
    "        end = time.time()\n",
    "        timer[2] += end - start\n",
    "    timer /= j + 1\n",
    "    vec[i] = timer[0]\n",
    "    non_vec[i] = timer[1]\n",
    "    extra[i] = timer [2]"
   ]
  },
  {
   "cell_type": "code",
   "execution_count": 134,
   "metadata": {
    "collapsed": false
   },
   "outputs": [
    {
     "data": {
      "text/plain": [
       "array([  5.19151688e-06,   5.56197639e-06,   6.62889263e-06,\n",
       "         8.38408652e-06])"
      ]
     },
     "execution_count": 134,
     "metadata": {},
     "output_type": "execute_result"
    }
   ],
   "source": [
    "vec"
   ]
  },
  {
   "cell_type": "code",
   "execution_count": 135,
   "metadata": {
    "collapsed": false
   },
   "outputs": [],
   "source": [
    "plt.plot(x, vec, 'rp-', x, non_vec,'bp-', x, extra, 'gp-')\n",
    "#plt.legend((vec, non_vec, extra), (\"Vectorized variant\", \"Non vectorized variant\", \"Variant with list comprehensoin\"))\n",
    "plt.show()"
   ]
  },
  {
   "cell_type": "code",
   "execution_count": 52,
   "metadata": {
    "collapsed": true
   },
   "outputs": [],
   "source": [
    "max_size1 = 1000\n",
    "size1 = np.array([10, 50, 100, 200])\n",
    "x1 = []\n",
    "y1 = []\n",
    "X = np.random.rand(max_size1, max_size1)\n",
    "for i in range(size1.size):\n",
    "    x1 += [np.random.randint(0, max_size1, size = (size1[i]))]\n",
    "    y1 += [np.random.randint(0, max_size1, size = (size1[i]))]\n"
   ]
  },
  {
   "cell_type": "code",
   "execution_count": 53,
   "metadata": {
    "collapsed": true
   },
   "outputs": [],
   "source": [
    "vec = np.zeros((size1.size))\n",
    "non_vec = np.zeros((size1.size))\n",
    "extra = np.zeros((size1.size))\n",
    "timer = np.zeros((3))\n",
    "#x = np.zeros((size1.size))\n",
    "for i in range(size1.size):\n",
    "    for j in range(3000//((i+1)**3)):\n",
    "        start = time.time()\n",
    "        ex2.var_vec(X, x1[i], y1[i])\n",
    "        end = time.time()\n",
    "        timer[0] += end - start\n",
    "    \n",
    "        start = time.time()\n",
    "        ex2.var_non_vec(X, x1[i], y1[i])\n",
    "        end = time.time()\n",
    "        timer[1] += end - start\n",
    "        \n",
    "        start = time.time()\n",
    "        ex2.var_extra(X, x1[i], y1[i])\n",
    "        end = time.time()\n",
    "        timer[2] = end - start\n",
    "    timer /= j + 1\n",
    "    vec[i] = timer[0]\n",
    "    non_vec[i] = timer[1]\n",
    "    extra[i] = timer [2]"
   ]
  },
  {
   "cell_type": "code",
   "execution_count": 54,
   "metadata": {
    "collapsed": true
   },
   "outputs": [],
   "source": [
    "plt.plot(x, vec, 'rp-', x, non_vec,'bp-', x, extra, 'gp-')\n",
    "\n",
    "plt.show(graf)"
   ]
  },
  {
   "cell_type": "markdown",
   "metadata": {},
   "source": [
    "# Testing ex3"
   ]
  },
  {
   "cell_type": "code",
   "execution_count": 55,
   "metadata": {
    "collapsed": true
   },
   "outputs": [],
   "source": [
    "import exersize3 as ex3"
   ]
  },
  {
   "cell_type": "code",
   "execution_count": 159,
   "metadata": {
    "collapsed": false
   },
   "outputs": [],
   "source": [
    "max_size = np.array([10, 100, 1000, 10000, 100000])\n",
    "multi_a = []\n",
    "multi_a2 = [] #same multisets\n",
    "multi_b = [] #diff var\n",
    "for i in max_size:\n",
    "    matrix = np.random.randint(10, size = (i))\n",
    "    multi_a += [matrix]\n",
    "    matrix = np.reshape(matrix, (5, -1))\n",
    "    matrix = np.roll(matrix, 3, axis = 1)\n",
    "    matrix = np.reshape(matrix, (-1))\n",
    "    multi_a2 += [matrix]\n",
    "    multi_b += [np.random.randint(10, size = (i))]\n",
    "    \n",
    "\n",
    "\n"
   ]
  },
  {
   "cell_type": "code",
   "execution_count": 160,
   "metadata": {
    "collapsed": false
   },
   "outputs": [
    {
     "name": "stdout",
     "output_type": "stream",
     "text": [
      "[3 5 2 9 2 9 3 9 6 6] [5 3 9 2 9 2 9 3 6 6]\n"
     ]
    }
   ],
   "source": [
    "print(multi_a[0], multi_a2[0])"
   ]
  },
  {
   "cell_type": "code",
   "execution_count": 161,
   "metadata": {
    "collapsed": false
   },
   "outputs": [
    {
     "name": "stdout",
     "output_type": "stream",
     "text": [
      "[[False  True]\n",
      " [False  True]\n",
      " [False  True]\n",
      " [False  True]]\n",
      "[[False  True]\n",
      " [False  True]\n",
      " [False  True]\n",
      " [False  True]]\n",
      "[[False  True]\n",
      " [False  True]\n",
      " [False  True]\n",
      " [False  True]]\n",
      "[[False  True]\n",
      " [False  True]\n",
      " [False  True]\n",
      " [False  True]]\n",
      "[[False  True]\n",
      " [False  True]\n",
      " [False  True]\n",
      " [False  True]]\n"
     ]
    }
   ],
   "source": [
    "size1 = max_size\n",
    "check = np.zeros((4, 2), dtype = bool)\n",
    "vec = np.zeros((size1.size, 2))\n",
    "non_vec = vec.copy()\n",
    "extra = vec.copy()\n",
    "extra2 = vec.copy()\n",
    "timer = np.zeros((4,2))\n",
    "#x = np.zeros((size1.size))\n",
    "for i in range(size1.size):\n",
    "    for j in range(5000//((i+1)**3)):\n",
    "        # var vec\n",
    "        start = time.time()\n",
    "        check[0, 0] = ex3.var_vec(multi_a[i], multi_b[i])\n",
    "        end = time.time()\n",
    "        timer[0, 0] += end - start\n",
    "        \n",
    "        start = time.time()\n",
    "        check[0, 1] = ex3.var_vec(multi_a[i], multi_a2[i])\n",
    "        end = time.time()\n",
    "        timer[0, 1] += end - start\n",
    "    \n",
    "        # var non vec\n",
    "        start = time.time()\n",
    "        check[1, 0] += ex3.var_non_vec(multi_a[i], multi_b[i])\n",
    "        end = time.time()\n",
    "        timer[1, 0] += end - start\n",
    "        \n",
    "        start = time.time()\n",
    "        check[1, 1] = ex3.var_non_vec(multi_a[i], multi_a2[i])\n",
    "        end = time.time()\n",
    "        timer[1, 1] += end - start\n",
    "        \n",
    "        #var extra 1\n",
    "        start = time.time()\n",
    "        check[2, 0] = ex3.var_extra(multi_a[i], multi_b[i])\n",
    "        end = time.time()\n",
    "        timer[2, 0] += end - start\n",
    "        \n",
    "        start = time.time()\n",
    "        check[2, 1] = ex3.var_extra(multi_a[i], multi_a2[i])\n",
    "        end = time.time()\n",
    "        timer[2, 1] += end - start\n",
    "        \n",
    "        # var extra 2\n",
    "        start = time.time()\n",
    "        check[3, 0] = ex3.var_extra2(multi_a[i], multi_b[i])\n",
    "        end = time.time()\n",
    "        timer[3, 0] += end - start\n",
    "        \n",
    "        start = time.time()\n",
    "        check[3, 1] = ex3.var_extra2(multi_a[i], multi_a2[i])\n",
    "        end = time.time()\n",
    "        timer[3, 1] += end - start\n",
    "        \n",
    "    timer /= j + 1\n",
    "    vec[i, :] = timer[0, :]\n",
    "    non_vec[i, :] = timer[1, :]\n",
    "    extra[i, :] = timer [2, :]\n",
    "    extra2[i, :] = timer [3, :]\n",
    "    print(check)\n",
    "    if (check[:,0]).any() or not((check[:,1]).all()):\n",
    "        print(i, \"problems\")\n"
   ]
  },
  {
   "cell_type": "code",
   "execution_count": 167,
   "metadata": {
    "collapsed": false
   },
   "outputs": [],
   "source": [
    "x = max_size"
   ]
  },
  {
   "cell_type": "code",
   "execution_count": 168,
   "metadata": {
    "collapsed": false
   },
   "outputs": [],
   "source": [
    "plt.plot(x, vec[:,1], 'rp-', x, non_vec[:,1],'bp-', x, extra[:,1], 'gp-', x, extra2[:,1], 'yp-')\n",
    "plt.show()"
   ]
  },
  {
   "cell_type": "code",
   "execution_count": 155,
   "metadata": {
    "collapsed": false
   },
   "outputs": [
    {
     "data": {
      "text/plain": [
       "0.0007450580596923828"
      ]
     },
     "execution_count": 155,
     "metadata": {},
     "output_type": "execute_result"
    }
   ],
   "source": [
    "start = time.time()\n",
    "check[0, 0] = ex3.var_vec(multi_a[0], multi_b[0])\n",
    "end = time.time()\n",
    "end - start"
   ]
  },
  {
   "cell_type": "code",
   "execution_count": null,
   "metadata": {
    "collapsed": true
   },
   "outputs": [],
   "source": []
  },
  {
   "cell_type": "markdown",
   "metadata": {},
   "source": [
    "# Testing exersize 4"
   ]
  },
  {
   "cell_type": "code",
   "execution_count": 29,
   "metadata": {
    "collapsed": true
   },
   "outputs": [],
   "source": [
    "import exersize4 as ex4"
   ]
  },
  {
   "cell_type": "code",
   "execution_count": 30,
   "metadata": {
    "collapsed": false
   },
   "outputs": [],
   "source": [
    "sizes = np.array([10, 100, 1000, 10000, 100000])\n",
    "size1 = sizes\n",
    "mass = []\n",
    "for i in range(sizes.size):\n",
    "    arr = np.random.randint(2**20, size = (sizes[i]))\n",
    "    x = np.random.randint(sizes[i], size = (sizes[i]//4 * 3))\n",
    "    arr[x] = 0\n",
    "    mass += [arr]"
   ]
  },
  {
   "cell_type": "code",
   "execution_count": 31,
   "metadata": {
    "collapsed": false
   },
   "outputs": [],
   "source": [
    "vec = np.zeros((size1.size))\n",
    "non_vec = np.zeros((size1.size))\n",
    "extra = np.zeros((size1.size))\n",
    "timer = np.zeros((3))\n",
    "max_el = np.zeros((3))\n",
    "#x = np.zeros((size1.size))\n",
    "for i in range(size1.size):\n",
    "    for j in range(10000//((i+1)**3)):\n",
    "        start = time.time()\n",
    "        max_el[0] = ex4.var_vec(mass[i])\n",
    "        end = time.time()\n",
    "        timer[0] += (end - start)\n",
    "    \n",
    "        start = time.time()\n",
    "        max_el[1] = ex4.var_non_vec(mass[i])\n",
    "        end = time.time()\n",
    "        timer[1] += end - start\n",
    "        \n",
    "        start = time.time()\n",
    "        max_el[2] = ex4.var_extra(mass[i])\n",
    "        end = time.time()\n",
    "        timer[2] += end - start\n",
    "    if max_el[0] != max_el[1] or max_el[1] != max_el[2]:\n",
    "        print(\"mistake\")\n",
    "    timer /= j + 1\n",
    "    vec[i] = timer[0]\n",
    "    non_vec[i] = timer[1]\n",
    "    extra[i] = timer [2]"
   ]
  },
  {
   "cell_type": "code",
   "execution_count": 33,
   "metadata": {
    "collapsed": false
   },
   "outputs": [],
   "source": [
    "x = sizes\n",
    "plt.plot(x, vec, 'rp-', x, non_vec,'bp-', x, extra, 'gp-')\n",
    "plt.title(\"Speeds of algorithms in 4th exersize\")\n",
    "plt.xlabel('elements on diagonal of array')\n",
    "plt.ylabel('time, s')\n",
    "plt.legend(['Vectorized variant', 'Non vectorized variant', 'Mixed variant'], loc='upper left')\n",
    "plt.show()"
   ]
  },
  {
   "cell_type": "markdown",
   "metadata": {},
   "source": [
    "# Testing exersize 5"
   ]
  },
  {
   "cell_type": "code",
   "execution_count": 179,
   "metadata": {
    "collapsed": true
   },
   "outputs": [],
   "source": [
    "import exersize5 as ex5"
   ]
  },
  {
   "cell_type": "code",
   "execution_count": 183,
   "metadata": {
    "collapsed": true
   },
   "outputs": [],
   "source": [
    "sizes = np.array([100, 250, 500, 1000])\n",
    "size1 = sizes\n",
    "mass = []\n",
    "for i in range(sizes.size):\n",
    "    arr = np.random.randint(2**20, size = (sizes[i], sizes[i]+100, 3))\n",
    "    mass += [arr]"
   ]
  },
  {
   "cell_type": "code",
   "execution_count": 184,
   "metadata": {
    "collapsed": false
   },
   "outputs": [],
   "source": [
    "reload(ex5)\n",
    "vec = np.zeros((size1.size))\n",
    "non_vec = np.zeros((size1.size))\n",
    "extra = np.zeros((size1.size))\n",
    "timer = np.zeros((3))\n",
    "\n",
    "#x = np.zeros((size1.size))\n",
    "for i in range(size1.size):\n",
    "    for j in range(100//((i+1)**2)):\n",
    "        start = time.time()\n",
    "        ex5.var_vec(mass[i])\n",
    "        end = time.time()\n",
    "        timer[0] += (end - start)\n",
    "    \n",
    "        start = time.time()\n",
    "        ex5.var_non_vec(mass[i])\n",
    "        end = time.time()\n",
    "        timer[1] += end - start\n",
    "        \n",
    "        start = time.time()\n",
    "        ex5.var_extra(mass[i])\n",
    "        end = time.time()\n",
    "        timer[2] += end - start\n",
    "    timer /= j + 1\n",
    "    vec[i] = timer[0]\n",
    "    non_vec[i] = timer[1]\n",
    "    extra[i] = timer [2]"
   ]
  },
  {
   "cell_type": "code",
   "execution_count": 186,
   "metadata": {
    "collapsed": false
   },
   "outputs": [
    {
     "name": "stderr",
     "output_type": "stream",
     "text": [
      "/home/alex/anaconda3/lib/python3.4/site-packages/matplotlib/axes/_axes.py:475: UserWarning: No labelled objects found. Use label='...' kwarg on individual plots.\n",
      "  warnings.warn(\"No labelled objects found. \"\n"
     ]
    },
    {
     "ename": "AttributeError",
     "evalue": "'NoneType' object has no attribute 'draggable'",
     "output_type": "error",
     "traceback": [
      "\u001b[1;31m---------------------------------------------------------------------------\u001b[0m",
      "\u001b[1;31mAttributeError\u001b[0m                            Traceback (most recent call last)",
      "\u001b[1;32m/home/alex/anaconda3/lib/python3.4/site-packages/matplotlib/backends/qt_editor/formlayout.py\u001b[0m in \u001b[0;36mapply\u001b[1;34m(self)\u001b[0m\n\u001b[0;32m    468\u001b[0m \u001b[1;33m\u001b[0m\u001b[0m\n\u001b[0;32m    469\u001b[0m     \u001b[1;32mdef\u001b[0m \u001b[0mapply\u001b[0m\u001b[1;33m(\u001b[0m\u001b[0mself\u001b[0m\u001b[1;33m)\u001b[0m\u001b[1;33m:\u001b[0m\u001b[1;33m\u001b[0m\u001b[0m\n\u001b[1;32m--> 470\u001b[1;33m         \u001b[0mself\u001b[0m\u001b[1;33m.\u001b[0m\u001b[0mapply_callback\u001b[0m\u001b[1;33m(\u001b[0m\u001b[0mself\u001b[0m\u001b[1;33m.\u001b[0m\u001b[0mformwidget\u001b[0m\u001b[1;33m.\u001b[0m\u001b[0mget\u001b[0m\u001b[1;33m(\u001b[0m\u001b[1;33m)\u001b[0m\u001b[1;33m)\u001b[0m\u001b[1;33m\u001b[0m\u001b[0m\n\u001b[0m\u001b[0;32m    471\u001b[0m \u001b[1;33m\u001b[0m\u001b[0m\n\u001b[0;32m    472\u001b[0m     \u001b[1;32mdef\u001b[0m \u001b[0mget\u001b[0m\u001b[1;33m(\u001b[0m\u001b[0mself\u001b[0m\u001b[1;33m)\u001b[0m\u001b[1;33m:\u001b[0m\u001b[1;33m\u001b[0m\u001b[0m\n",
      "\u001b[1;32m/home/alex/anaconda3/lib/python3.4/site-packages/matplotlib/backends/qt_editor/figureoptions.py\u001b[0m in \u001b[0;36mapply_callback\u001b[1;34m(data)\u001b[0m\n\u001b[0;32m    136\u001b[0m             \u001b[1;32melse\u001b[0m\u001b[1;33m:\u001b[0m\u001b[1;33m\u001b[0m\u001b[0m\n\u001b[0;32m    137\u001b[0m                 \u001b[0mnew_legend\u001b[0m \u001b[1;33m=\u001b[0m \u001b[0maxes\u001b[0m\u001b[1;33m.\u001b[0m\u001b[0mlegend\u001b[0m\u001b[1;33m(\u001b[0m\u001b[1;33m)\u001b[0m\u001b[1;33m\u001b[0m\u001b[0m\n\u001b[1;32m--> 138\u001b[1;33m                 \u001b[0mnew_legend\u001b[0m\u001b[1;33m.\u001b[0m\u001b[0mdraggable\u001b[0m\u001b[1;33m(\u001b[0m\u001b[1;32mTrue\u001b[0m\u001b[1;33m)\u001b[0m\u001b[1;33m\u001b[0m\u001b[0m\n\u001b[0m\u001b[0;32m    139\u001b[0m \u001b[1;33m\u001b[0m\u001b[0m\n\u001b[0;32m    140\u001b[0m         \u001b[1;31m# Redraw\u001b[0m\u001b[1;33m\u001b[0m\u001b[1;33m\u001b[0m\u001b[0m\n",
      "\u001b[1;31mAttributeError\u001b[0m: 'NoneType' object has no attribute 'draggable'"
     ]
    },
    {
     "ename": "AttributeError",
     "evalue": "'NoneType' object has no attribute 'draggable'",
     "output_type": "error",
     "traceback": [
      "\u001b[1;31m---------------------------------------------------------------------------\u001b[0m",
      "\u001b[1;31mAttributeError\u001b[0m                            Traceback (most recent call last)",
      "\u001b[1;32m/home/alex/anaconda3/lib/python3.4/site-packages/matplotlib/backends/qt_editor/formlayout.py\u001b[0m in \u001b[0;36mapply\u001b[1;34m(self)\u001b[0m\n\u001b[0;32m    468\u001b[0m \u001b[1;33m\u001b[0m\u001b[0m\n\u001b[0;32m    469\u001b[0m     \u001b[1;32mdef\u001b[0m \u001b[0mapply\u001b[0m\u001b[1;33m(\u001b[0m\u001b[0mself\u001b[0m\u001b[1;33m)\u001b[0m\u001b[1;33m:\u001b[0m\u001b[1;33m\u001b[0m\u001b[0m\n\u001b[1;32m--> 470\u001b[1;33m         \u001b[0mself\u001b[0m\u001b[1;33m.\u001b[0m\u001b[0mapply_callback\u001b[0m\u001b[1;33m(\u001b[0m\u001b[0mself\u001b[0m\u001b[1;33m.\u001b[0m\u001b[0mformwidget\u001b[0m\u001b[1;33m.\u001b[0m\u001b[0mget\u001b[0m\u001b[1;33m(\u001b[0m\u001b[1;33m)\u001b[0m\u001b[1;33m)\u001b[0m\u001b[1;33m\u001b[0m\u001b[0m\n\u001b[0m\u001b[0;32m    471\u001b[0m \u001b[1;33m\u001b[0m\u001b[0m\n\u001b[0;32m    472\u001b[0m     \u001b[1;32mdef\u001b[0m \u001b[0mget\u001b[0m\u001b[1;33m(\u001b[0m\u001b[0mself\u001b[0m\u001b[1;33m)\u001b[0m\u001b[1;33m:\u001b[0m\u001b[1;33m\u001b[0m\u001b[0m\n",
      "\u001b[1;32m/home/alex/anaconda3/lib/python3.4/site-packages/matplotlib/backends/qt_editor/figureoptions.py\u001b[0m in \u001b[0;36mapply_callback\u001b[1;34m(data)\u001b[0m\n\u001b[0;32m    136\u001b[0m             \u001b[1;32melse\u001b[0m\u001b[1;33m:\u001b[0m\u001b[1;33m\u001b[0m\u001b[0m\n\u001b[0;32m    137\u001b[0m                 \u001b[0mnew_legend\u001b[0m \u001b[1;33m=\u001b[0m \u001b[0maxes\u001b[0m\u001b[1;33m.\u001b[0m\u001b[0mlegend\u001b[0m\u001b[1;33m(\u001b[0m\u001b[1;33m)\u001b[0m\u001b[1;33m\u001b[0m\u001b[0m\n\u001b[1;32m--> 138\u001b[1;33m                 \u001b[0mnew_legend\u001b[0m\u001b[1;33m.\u001b[0m\u001b[0mdraggable\u001b[0m\u001b[1;33m(\u001b[0m\u001b[1;32mTrue\u001b[0m\u001b[1;33m)\u001b[0m\u001b[1;33m\u001b[0m\u001b[0m\n\u001b[0m\u001b[0;32m    139\u001b[0m \u001b[1;33m\u001b[0m\u001b[0m\n\u001b[0;32m    140\u001b[0m         \u001b[1;31m# Redraw\u001b[0m\u001b[1;33m\u001b[0m\u001b[1;33m\u001b[0m\u001b[0m\n",
      "\u001b[1;31mAttributeError\u001b[0m: 'NoneType' object has no attribute 'draggable'"
     ]
    }
   ],
   "source": [
    "x = sizes\n",
    "plt.plot(x, vec, 'rp-', x, non_vec,'bp-', x, extra, 'gp-')\n",
    "plt.show()"
   ]
  },
  {
   "cell_type": "markdown",
   "metadata": {},
   "source": [
    "# Testing exersize 6"
   ]
  },
  {
   "cell_type": "code",
   "execution_count": 187,
   "metadata": {
    "collapsed": true
   },
   "outputs": [],
   "source": [
    "import exersize6 as ex6"
   ]
  },
  {
   "cell_type": "code",
   "execution_count": 224,
   "metadata": {
    "collapsed": false
   },
   "outputs": [],
   "source": [
    "dif_vals = np.array([10, 100, 1000, 10000])\n",
    "dif_vals = dif_vals//5\n",
    "mass = []\n",
    "for i in range(dif_vals.size):\n",
    "    vals = np.random.randint(10, size = (dif_vals[i]))\n",
    "    reps = np.random.randint(1, 10, size = (dif_vals[i]))\n",
    "    #print(vals, reps)\n",
    "    mass += [np.repeat(vals, reps)]\n"
   ]
  },
  {
   "cell_type": "code",
   "execution_count": 238,
   "metadata": {
    "collapsed": false
   },
   "outputs": [
    {
     "data": {
      "text/plain": [
       "(91,)"
      ]
     },
     "execution_count": 238,
     "metadata": {},
     "output_type": "execute_result"
    }
   ],
   "source": [
    "a = mass[1]\n",
    "a.shape"
   ]
  },
  {
   "cell_type": "code",
   "execution_count": 233,
   "metadata": {
    "collapsed": false
   },
   "outputs": [],
   "source": [
    "reload(ex6)\n",
    "vec = np.zeros((size1.size))\n",
    "non_vec = np.zeros((size1.size))\n",
    "extra = np.zeros((size1.size))\n",
    "timer = np.zeros((3))\n",
    "\n",
    "#x = np.zeros((size1.size))\n",
    "for i in range(size1.size):\n",
    "    for j in range(1000//((i+1)**3)):\n",
    "        #print(mass[i])\n",
    "        start = time.time()\n",
    "        a, a1 = ex6.var_vec(mass[i])\n",
    "        end = time.time()\n",
    "        timer[0] += (end - start)\n",
    "    \n",
    "        #print(mass[i])\n",
    "        start = time.time()\n",
    "        b, b1 = ex6.var_non_vec(mass[i])\n",
    "        end = time.time()\n",
    "        timer[1] += end - start\n",
    "        \n",
    "        start = time.time()\n",
    "        c, c1 = ex6.var_extra(mass[i])\n",
    "        end = time.time()\n",
    "        timer[2] += end - start\n",
    "    if  not np.all(a == b) or not np.all(a == c):\n",
    "        print(\"problems\", i)\n",
    "    if  not np.all(a1 == b1) or not np.all(a1 == c1):\n",
    "        print(\"problems2\", i)\n",
    "    timer /= j + 1\n",
    "    vec[i] = timer[0]\n",
    "    non_vec[i] = timer[1]\n",
    "    extra[i] = timer [2]"
   ]
  },
  {
   "cell_type": "code",
   "execution_count": 244,
   "metadata": {
    "collapsed": false
   },
   "outputs": [
    {
     "name": "stdout",
     "output_type": "stream",
     "text": [
      "8\n",
      "91\n",
      "1011\n",
      "9847\n"
     ]
    }
   ],
   "source": [
    "x = np.empty((4))\n",
    "j = 0\n",
    "for i in mass:\n",
    "    x[j] = i.size\n",
    "    j+=1\n",
    "    print(i.size)\n",
    "plt.plot(x, vec, 'rp-', x, non_vec,'bp-', x, extra, 'gp-')\n",
    "plt.show(graf)\n"
   ]
  },
  {
   "cell_type": "markdown",
   "metadata": {},
   "source": [
    "# testing exersize7"
   ]
  },
  {
   "cell_type": "code",
   "execution_count": 11,
   "metadata": {
    "collapsed": true
   },
   "outputs": [],
   "source": [
    "import exersize7 as ex7"
   ]
  },
  {
   "cell_type": "code",
   "execution_count": 5,
   "metadata": {
    "collapsed": false
   },
   "outputs": [
    {
     "ename": "NameError",
     "evalue": "name 'mass' is not defined",
     "output_type": "error",
     "traceback": [
      "\u001b[1;31m---------------------------------------------------------------------------\u001b[0m",
      "\u001b[1;31mNameError\u001b[0m                                 Traceback (most recent call last)",
      "\u001b[1;32m<ipython-input-5-6ab2d46a8921>\u001b[0m in \u001b[0;36m<module>\u001b[1;34m()\u001b[0m\n\u001b[0;32m      5\u001b[0m     \u001b[0mX\u001b[0m \u001b[1;33m=\u001b[0m \u001b[0mnp\u001b[0m\u001b[1;33m.\u001b[0m\u001b[0mrandom\u001b[0m\u001b[1;33m.\u001b[0m\u001b[0mrand\u001b[0m\u001b[1;33m(\u001b[0m\u001b[0mobj_x\u001b[0m\u001b[1;33m[\u001b[0m\u001b[0mi\u001b[0m\u001b[1;33m]\u001b[0m\u001b[1;33m,\u001b[0m \u001b[0msigns\u001b[0m\u001b[1;33m[\u001b[0m\u001b[0mi\u001b[0m\u001b[1;33m]\u001b[0m\u001b[1;33m)\u001b[0m\u001b[1;33m\u001b[0m\u001b[0m\n\u001b[0;32m      6\u001b[0m     \u001b[0mY\u001b[0m \u001b[1;33m=\u001b[0m \u001b[0mnp\u001b[0m\u001b[1;33m.\u001b[0m\u001b[0mrandom\u001b[0m\u001b[1;33m.\u001b[0m\u001b[0mrand\u001b[0m\u001b[1;33m(\u001b[0m\u001b[0mobj_y\u001b[0m\u001b[1;33m[\u001b[0m\u001b[0mi\u001b[0m\u001b[1;33m]\u001b[0m\u001b[1;33m,\u001b[0m \u001b[0msigns\u001b[0m\u001b[1;33m[\u001b[0m\u001b[0mi\u001b[0m\u001b[1;33m]\u001b[0m\u001b[1;33m)\u001b[0m\u001b[1;33m\u001b[0m\u001b[0m\n\u001b[1;32m----> 7\u001b[1;33m     \u001b[0mmass\u001b[0m \u001b[1;33m+=\u001b[0m \u001b[1;33m[\u001b[0m\u001b[0mX\u001b[0m\u001b[1;33m,\u001b[0m \u001b[0mY\u001b[0m\u001b[1;33m]\u001b[0m\u001b[1;33m\u001b[0m\u001b[0m\n\u001b[0m\u001b[0;32m      8\u001b[0m     \u001b[0mprint\u001b[0m\u001b[1;33m(\u001b[0m\u001b[0mX\u001b[0m\u001b[1;33m.\u001b[0m\u001b[0mshape\u001b[0m\u001b[1;33m,\u001b[0m \u001b[0mY\u001b[0m\u001b[1;33m.\u001b[0m\u001b[0mshape\u001b[0m\u001b[1;33m)\u001b[0m\u001b[1;33m\u001b[0m\u001b[0m\n\u001b[0;32m      9\u001b[0m \u001b[1;33m\u001b[0m\u001b[0m\n",
      "\u001b[1;31mNameError\u001b[0m: name 'mass' is not defined"
     ]
    }
   ],
   "source": [
    "signs = np.array([10, 20, 50, 100])\n",
    "obj_x = np.array([10, 40, 100, 200])\n",
    "obj_y = obj_x + 20\n",
    "mass = []\n",
    "for i in range(signs.size):\n",
    "    X = np.random.rand(obj_x[i], signs[i])\n",
    "    Y = np.random.rand(obj_y[i], signs[i])\n",
    "    mass += [X, Y]\n",
    "    print(X.shape, Y.shape)\n",
    "    "
   ]
  },
  {
   "cell_type": "code",
   "execution_count": 15,
   "metadata": {
    "collapsed": false
   },
   "outputs": [
    {
     "name": "stdout",
     "output_type": "stream",
     "text": [
      "problems 0\n",
      "problems 1\n",
      "problems 2\n",
      "problems 3\n"
     ]
    }
   ],
   "source": [
    "reload(ex7)\n",
    "signs = np.array([10, 20, 50, 100])\n",
    "obj_x = np.array([10, 40, 100, 200])\n",
    "obj_y = obj_x + 20\n",
    "size1 = signs\n",
    "vec = np.zeros((size1.size))\n",
    "non_vec = np.zeros((size1.size))\n",
    "extra = np.zeros((size1.size))\n",
    "timer = np.zeros((3))\n",
    "#x = np.zeros((size1.size))\n",
    "for i in np.arange(size1.size):\n",
    "    X = np.random.rand(obj_x[i], signs[i])\n",
    "    Y = np.random.rand(obj_y[i], signs[i])\n",
    "    for j in range(1000//((i+1)**3)):\n",
    "        start = time.time()\n",
    "        a = ex7.var_vec(X,Y)\n",
    "        end = time.time()\n",
    "        timer[0] += (end - start)\n",
    "    \n",
    "        start = time.time()\n",
    "        b = ex7.var_non_vec(X,Y)\n",
    "        end = time.time()\n",
    "        timer[1] += end - start\n",
    "        \n",
    "        start = time.time()\n",
    "        c = ex7.var_extra(X,Y)\n",
    "        end = time.time()\n",
    "        timer[2] += end - start\n",
    "    if  not (a == b).all() or not(a == c).all():\n",
    "        print(\"problems\", i)\n",
    "    timer /= j + 1\n",
    "    vec[i] = timer[0]\n",
    "    non_vec[i] = timer[1]\n",
    "    extra[i] = timer [2]"
   ]
  },
  {
   "cell_type": "code",
   "execution_count": 16,
   "metadata": {
    "collapsed": false
   },
   "outputs": [],
   "source": [
    "x = signs * obj_x * obj_y\n",
    "plt.plot(x, vec, 'rp-', x, non_vec,'bp-', x, extra, 'gp-')\n",
    "plt.show()"
   ]
  },
  {
   "cell_type": "code",
   "execution_count": 277,
   "metadata": {
    "collapsed": false
   },
   "outputs": [
    {
     "name": "stdout",
     "output_type": "stream",
     "text": [
      "[  0.00000000e+00   0.00000000e+00   0.00000000e+00  -2.22044605e-16\n",
      "   0.00000000e+00   0.00000000e+00   0.00000000e+00   0.00000000e+00\n",
      "   0.00000000e+00   0.00000000e+00   2.22044605e-16   0.00000000e+00\n",
      "   0.00000000e+00   0.00000000e+00   2.22044605e-16   0.00000000e+00\n",
      "   0.00000000e+00   0.00000000e+00   0.00000000e+00   0.00000000e+00\n",
      "   0.00000000e+00   0.00000000e+00  -2.22044605e-16   0.00000000e+00\n",
      "   0.00000000e+00   0.00000000e+00   0.00000000e+00   0.00000000e+00\n",
      "   0.00000000e+00   0.00000000e+00]\n",
      "[  0.00000000e+00   0.00000000e+00  -2.22044605e-16   0.00000000e+00\n",
      "   0.00000000e+00   0.00000000e+00   0.00000000e+00  -2.22044605e-16\n",
      "   0.00000000e+00   0.00000000e+00  -2.22044605e-16   0.00000000e+00\n",
      "   4.44089210e-16   0.00000000e+00   0.00000000e+00   0.00000000e+00\n",
      "   0.00000000e+00   0.00000000e+00   0.00000000e+00   0.00000000e+00\n",
      "   0.00000000e+00  -2.22044605e-16   0.00000000e+00   0.00000000e+00\n",
      "   0.00000000e+00   0.00000000e+00   0.00000000e+00   0.00000000e+00\n",
      "   2.22044605e-16   0.00000000e+00]\n"
     ]
    }
   ],
   "source": [
    "X = mass[0]\n",
    "Y = mass[1]\n",
    "print(ex7.var_vec(X,Y)[0,:]- ex7.var_extra(X,Y)[0,:] )\n",
    "print(ex7.var_extra(X,Y)[0,:] - ex7.var_non_vec(X,Y)[0,:])\n"
   ]
  },
  {
   "cell_type": "code",
   "execution_count": 274,
   "metadata": {
    "collapsed": false
   },
   "outputs": [
    {
     "data": {
      "text/plain": [
       "array([[ 1.40670056,  1.22229258,  1.32838748,  1.31957497,  1.57111556,\n",
       "         1.52973417,  1.60887569,  1.77943853,  1.75087416,  1.52395672,\n",
       "         1.57671522,  1.62942809,  2.1005178 ,  1.63170467,  1.59796552,\n",
       "         1.59525077,  1.44936047,  1.35663428,  1.35966161,  1.49186399,\n",
       "         1.64965179,  1.24559298,  1.52810987,  1.40043051,  1.14076306,\n",
       "         1.47971185,  1.47536407,  1.47199846,  1.2942792 ,  1.29437895],\n",
       "       [ 1.10111067,  1.19752654,  1.57250335,  1.08456376,  1.30846651,\n",
       "         1.34782461,  1.32538118,  0.89760019,  1.25941573,  1.1669428 ,\n",
       "         1.32844121,  0.90197616,  1.44916753,  0.8738455 ,  1.00733087,\n",
       "         0.91615202,  1.19109801,  1.21008435,  1.19785054,  0.88460323,\n",
       "         1.4092127 ,  0.62937435,  1.35934152,  1.1150868 ,  1.32192992,\n",
       "         1.07110288,  0.80689369,  0.94076651,  0.97252356,  1.06207266],\n",
       "       [ 1.31777825,  1.05707962,  1.35844335,  1.10976478,  1.18807931,\n",
       "         1.2775632 ,  1.2670575 ,  1.91218278,  1.69726987,  1.65111286,\n",
       "         1.13144095,  1.73647826,  1.8606384 ,  1.44137255,  1.08540365,\n",
       "         1.71037665,  1.83717543,  0.97251333,  1.34561967,  1.15474699,\n",
       "         1.44400753,  1.46457017,  1.15585273,  1.11735808,  1.53720012,\n",
       "         1.42038087,  1.19654372,  1.51285314,  1.58379484,  1.11250856],\n",
       "       [ 1.40413321,  1.69659231,  1.82356502,  1.8075136 ,  1.46978977,\n",
       "         1.57406208,  1.75834826,  1.14071346,  1.82421556,  1.25515897,\n",
       "         1.82282402,  1.00059219,  1.55403206,  1.18843867,  1.61357855,\n",
       "         1.4522362 ,  1.23558172,  1.83076744,  1.21443846,  1.62089091,\n",
       "         1.54262784,  1.37691502,  1.32977238,  1.00819602,  1.45264578,\n",
       "         1.38408636,  1.39972057,  1.72188648,  1.46880376,  1.3489236 ],\n",
       "       [ 1.29503133,  1.16888655,  1.73709045,  1.29124902,  1.26338276,\n",
       "         1.67761318,  1.66569064,  1.15516695,  1.57657467,  1.53802867,\n",
       "         1.6860219 ,  1.23712987,  1.74281101,  1.09531136,  1.3930947 ,\n",
       "         1.24894526,  1.38826731,  1.39428002,  1.48304139,  1.20709961,\n",
       "         1.55757716,  0.79932332,  1.49783728,  1.29696993,  1.52595604,\n",
       "         1.35917029,  1.12605536,  1.18161077,  1.13959734,  0.95751059],\n",
       "       [ 0.80733753,  1.3172737 ,  1.44080208,  1.45496308,  1.4077685 ,\n",
       "         1.25284437,  1.44021868,  1.15569634,  1.25133927,  0.94111695,\n",
       "         1.07347225,  0.84626954,  1.54786723,  1.18114313,  1.15526555,\n",
       "         0.71688319,  0.85805099,  1.45267378,  1.03844497,  1.3084439 ,\n",
       "         1.14946814,  0.94551584,  1.37774145,  1.17474488,  0.93580992,\n",
       "         0.98878825,  0.99017304,  1.14588977,  0.91412242,  1.41947573],\n",
       "       [ 1.48436976,  1.67326685,  1.69212727,  1.70458852,  1.46877494,\n",
       "         1.29360707,  0.97375202,  1.83723303,  1.30197926,  1.53722911,\n",
       "         1.36640021,  1.84316344,  1.33032015,  1.60051841,  1.06217639,\n",
       "         1.59259048,  1.56862049,  1.47873397,  1.37045136,  1.06909618,\n",
       "         1.36976758,  1.55157024,  1.49646669,  1.3483237 ,  1.47805403,\n",
       "         1.68632489,  1.13141894,  1.32576579,  1.44743919,  1.83590714],\n",
       "       [ 1.30870994,  1.26719533,  1.52994577,  1.48098666,  1.24649491,\n",
       "         1.3428624 ,  0.66552014,  1.30717771,  1.20147055,  1.048938  ,\n",
       "         1.19432066,  1.40746351,  1.25511775,  1.27684774,  1.14140916,\n",
       "         1.43464412,  1.46916542,  1.30398835,  1.20383744,  0.91195721,\n",
       "         1.1854981 ,  1.17592175,  1.28685068,  0.76643398,  1.30437495,\n",
       "         1.49431619,  1.07380101,  1.12000209,  1.07565259,  1.41631314],\n",
       "       [ 1.19438168,  1.20719699,  1.31625757,  1.44022468,  1.38168114,\n",
       "         1.56222666,  0.94699874,  1.31505822,  1.25452823,  0.91988413,\n",
       "         1.15938893,  1.29993098,  1.7196799 ,  1.4985907 ,  1.49427432,\n",
       "         1.4533285 ,  1.66114314,  1.39294766,  1.36477368,  1.43277007,\n",
       "         1.42507756,  1.28811458,  1.48551077,  1.18198022,  1.18541276,\n",
       "         1.33878865,  1.34728329,  1.31440773,  1.06706113,  1.52984257],\n",
       "       [ 1.35134854,  1.06915441,  1.39903913,  1.18919517,  1.24632434,\n",
       "         1.1931739 ,  1.03887351,  1.81412953,  1.47910761,  1.53805046,\n",
       "         1.26493482,  1.74457416,  1.62530962,  1.3920768 ,  1.06284357,\n",
       "         1.61761519,  1.6018918 ,  1.00032984,  1.26467961,  0.93252457,\n",
       "         1.39089756,  1.34939162,  1.30241884,  1.12718048,  1.36134943,\n",
       "         1.51765367,  1.13351773,  1.20997419,  1.32519325,  1.31795308]])"
      ]
     },
     "execution_count": 274,
     "metadata": {},
     "output_type": "execute_result"
    }
   ],
   "source": [
    "ex7.var_extra(X,Y)"
   ]
  },
  {
   "cell_type": "code",
   "execution_count": null,
   "metadata": {
    "collapsed": true
   },
   "outputs": [],
   "source": []
  },
  {
   "cell_type": "markdown",
   "metadata": {},
   "source": [
    "# testing exersize8"
   ]
  },
  {
   "cell_type": "code",
   "execution_count": 34,
   "metadata": {
    "collapsed": false
   },
   "outputs": [
    {
     "ename": "NameError",
     "evalue": "name 'm' is not defined",
     "output_type": "error",
     "traceback": [
      "\u001b[1;31m---------------------------------------------------------------------------\u001b[0m",
      "\u001b[1;31mNameError\u001b[0m                                 Traceback (most recent call last)",
      "\u001b[1;32m<ipython-input-34-bc9ca2eda363>\u001b[0m in \u001b[0;36m<module>\u001b[1;34m()\u001b[0m\n\u001b[0;32m     10\u001b[0m     \u001b[0mj\u001b[0m \u001b[1;33m=\u001b[0m \u001b[0mnp\u001b[0m\u001b[1;33m.\u001b[0m\u001b[0marange\u001b[0m\u001b[1;33m(\u001b[0m\u001b[0mC\u001b[0m\u001b[1;33m.\u001b[0m\u001b[0mshape\u001b[0m\u001b[1;33m[\u001b[0m\u001b[1;36m0\u001b[0m\u001b[1;33m]\u001b[0m\u001b[1;33m)\u001b[0m\u001b[1;33m\u001b[0m\u001b[0m\n\u001b[0;32m     11\u001b[0m     \u001b[0mC\u001b[0m\u001b[1;33m[\u001b[0m\u001b[0mj\u001b[0m\u001b[1;33m,\u001b[0m \u001b[0mj\u001b[0m\u001b[1;33m]\u001b[0m \u001b[1;33m=\u001b[0m \u001b[1;36m1\u001b[0m\u001b[1;33m\u001b[0m\u001b[0m\n\u001b[1;32m---> 12\u001b[1;33m     \u001b[0mmass\u001b[0m \u001b[1;33m+=\u001b[0m \u001b[1;33m[\u001b[0m\u001b[1;33m(\u001b[0m\u001b[0mX\u001b[0m\u001b[1;33m,\u001b[0m \u001b[0mm\u001b[0m\u001b[1;33m,\u001b[0m \u001b[0mC\u001b[0m\u001b[1;33m)\u001b[0m\u001b[1;33m]\u001b[0m\u001b[1;33m\u001b[0m\u001b[0m\n\u001b[0m",
      "\u001b[1;31mNameError\u001b[0m: name 'm' is not defined"
     ]
    }
   ],
   "source": [
    "import exersize8 as ex8\n",
    "n = np.array([5, 10, 20, 50])\n",
    "points = 40\n",
    "mass = []\n",
    "for i in range(n.size):\n",
    "    means = np.random.rand(n[i])\n",
    "    X = np.random.rand(points, n[i])\n",
    "    C = np.random.rand(n[i], n[i])\n",
    "    C = (C + C.T)/2\n",
    "    j = np.arange(C.shape[0])\n",
    "    C[j, j] = 1\n",
    "    mass += [(X, m, C)]\n"
   ]
  },
  {
   "cell_type": "code",
   "execution_count": 38,
   "metadata": {
    "collapsed": false
   },
   "outputs": [
    {
     "name": "stdout",
     "output_type": "stream",
     "text": [
      "problems [  0.00000000e+00  -8.88178420e-16   0.00000000e+00   0.00000000e+00\n",
      "   0.00000000e+00   0.00000000e+00   0.00000000e+00   0.00000000e+00\n",
      "   0.00000000e+00   0.00000000e+00   0.00000000e+00   0.00000000e+00\n",
      "   0.00000000e+00  -8.88178420e-16   0.00000000e+00   0.00000000e+00\n",
      "   0.00000000e+00   0.00000000e+00   0.00000000e+00   0.00000000e+00\n",
      "   0.00000000e+00   0.00000000e+00   0.00000000e+00   0.00000000e+00\n",
      "   0.00000000e+00   0.00000000e+00   0.00000000e+00   0.00000000e+00\n",
      "   0.00000000e+00   0.00000000e+00   0.00000000e+00   0.00000000e+00\n",
      "   0.00000000e+00   0.00000000e+00   0.00000000e+00   0.00000000e+00\n",
      "   0.00000000e+00   0.00000000e+00   0.00000000e+00   0.00000000e+00] [ -8.88178420e-16  -8.88178420e-16  -1.77635684e-15  -1.77635684e-15\n",
      "  -8.88178420e-16  -8.88178420e-16  -1.77635684e-15  -8.88178420e-16\n",
      "  -1.77635684e-15  -8.88178420e-16  -1.77635684e-15  -1.77635684e-15\n",
      "  -1.77635684e-15  -8.88178420e-16  -8.88178420e-16  -8.88178420e-16\n",
      "  -8.88178420e-16  -1.77635684e-15  -8.88178420e-16  -8.88178420e-16\n",
      "  -8.88178420e-16  -1.77635684e-15  -8.88178420e-16  -8.88178420e-16\n",
      "  -1.77635684e-15  -1.77635684e-15  -8.88178420e-16  -8.88178420e-16\n",
      "  -8.88178420e-16  -1.77635684e-15  -8.88178420e-16  -1.77635684e-15\n",
      "  -1.77635684e-15  -8.88178420e-16  -1.77635684e-15  -1.77635684e-15\n",
      "  -8.88178420e-16  -1.77635684e-15  -1.77635684e-15  -8.88178420e-16]\n",
      "problems [  0.00000000e+00   0.00000000e+00   0.00000000e+00   0.00000000e+00\n",
      "   0.00000000e+00   0.00000000e+00   0.00000000e+00   0.00000000e+00\n",
      "   1.77635684e-15   0.00000000e+00   0.00000000e+00   0.00000000e+00\n",
      "   0.00000000e+00   0.00000000e+00   0.00000000e+00   0.00000000e+00\n",
      "   0.00000000e+00   0.00000000e+00   0.00000000e+00   0.00000000e+00\n",
      "   0.00000000e+00   0.00000000e+00   0.00000000e+00  -1.77635684e-15\n",
      "   0.00000000e+00   0.00000000e+00   0.00000000e+00   0.00000000e+00\n",
      "   0.00000000e+00   0.00000000e+00   0.00000000e+00   0.00000000e+00\n",
      "   0.00000000e+00   0.00000000e+00  -1.77635684e-15   1.77635684e-15\n",
      "   0.00000000e+00   0.00000000e+00   0.00000000e+00   0.00000000e+00] [ -1.77635684e-15  -3.55271368e-15  -1.77635684e-15  -3.55271368e-15\n",
      "  -1.77635684e-15  -1.77635684e-15  -1.77635684e-15  -1.77635684e-15\n",
      "  -3.55271368e-15  -1.77635684e-15  -3.55271368e-15  -1.77635684e-15\n",
      "  -1.77635684e-15  -1.77635684e-15  -1.77635684e-15  -3.55271368e-15\n",
      "  -1.77635684e-15  -3.55271368e-15  -1.77635684e-15  -3.55271368e-15\n",
      "  -3.55271368e-15  -1.77635684e-15  -1.77635684e-15  -1.77635684e-15\n",
      "  -1.77635684e-15  -1.77635684e-15   0.00000000e+00  -1.77635684e-15\n",
      "  -1.77635684e-15  -1.77635684e-15  -1.77635684e-15  -3.55271368e-15\n",
      "  -1.77635684e-15  -1.77635684e-15  -1.77635684e-15  -3.55271368e-15\n",
      "  -3.55271368e-15  -1.77635684e-15  -1.77635684e-15  -1.77635684e-15]\n",
      "problems [  0.00000000e+00   0.00000000e+00  -3.55271368e-15   0.00000000e+00\n",
      "   0.00000000e+00   0.00000000e+00   0.00000000e+00   0.00000000e+00\n",
      "   0.00000000e+00   0.00000000e+00   0.00000000e+00   0.00000000e+00\n",
      "   0.00000000e+00   0.00000000e+00   0.00000000e+00   0.00000000e+00\n",
      "   0.00000000e+00   0.00000000e+00   0.00000000e+00   0.00000000e+00\n",
      "   0.00000000e+00   0.00000000e+00   0.00000000e+00   0.00000000e+00\n",
      "   0.00000000e+00   0.00000000e+00   0.00000000e+00   0.00000000e+00\n",
      "   0.00000000e+00   0.00000000e+00   0.00000000e+00   0.00000000e+00\n",
      "   0.00000000e+00   0.00000000e+00   3.55271368e-15   0.00000000e+00\n",
      "   0.00000000e+00   0.00000000e+00   0.00000000e+00   0.00000000e+00] [ -3.55271368e-15  -7.10542736e-15  -3.55271368e-15  -3.55271368e-15\n",
      "  -7.10542736e-15  -7.10542736e-15  -3.55271368e-15   0.00000000e+00\n",
      "  -3.55271368e-15  -3.55271368e-15  -3.55271368e-15  -7.10542736e-15\n",
      "  -3.55271368e-15  -3.55271368e-15  -3.55271368e-15  -7.10542736e-15\n",
      "  -7.10542736e-15  -1.06581410e-14  -3.55271368e-15  -3.55271368e-15\n",
      "  -7.10542736e-15  -3.55271368e-15  -7.10542736e-15  -3.55271368e-15\n",
      "  -3.55271368e-15  -7.10542736e-15  -7.10542736e-15  -3.55271368e-15\n",
      "  -3.55271368e-15  -3.55271368e-15  -3.55271368e-15  -3.55271368e-15\n",
      "   0.00000000e+00  -3.55271368e-15  -7.10542736e-15  -7.10542736e-15\n",
      "  -7.10542736e-15  -3.55271368e-15  -7.10542736e-15  -3.55271368e-15]\n",
      "problems [  0.00000000e+00   0.00000000e+00   0.00000000e+00   0.00000000e+00\n",
      "   0.00000000e+00   0.00000000e+00   0.00000000e+00   0.00000000e+00\n",
      "   0.00000000e+00   0.00000000e+00   0.00000000e+00   0.00000000e+00\n",
      "   0.00000000e+00  -7.10542736e-15   0.00000000e+00   0.00000000e+00\n",
      "  -7.10542736e-15   0.00000000e+00   7.10542736e-15   0.00000000e+00\n",
      "   0.00000000e+00   0.00000000e+00  -7.10542736e-15   0.00000000e+00\n",
      "   0.00000000e+00   0.00000000e+00   0.00000000e+00   0.00000000e+00\n",
      "   0.00000000e+00   0.00000000e+00   0.00000000e+00   0.00000000e+00\n",
      "   0.00000000e+00  -7.10542736e-15   0.00000000e+00   0.00000000e+00\n",
      "  -7.10542736e-15   0.00000000e+00   0.00000000e+00   0.00000000e+00] [  0.00000000e+00  -7.10542736e-15   0.00000000e+00  -7.10542736e-15\n",
      "  -1.42108547e-14  -7.10542736e-15   0.00000000e+00  -7.10542736e-15\n",
      "  -1.42108547e-14   0.00000000e+00  -7.10542736e-15   0.00000000e+00\n",
      "  -7.10542736e-15   7.10542736e-15  -7.10542736e-15  -7.10542736e-15\n",
      "  -7.10542736e-15  -7.10542736e-15  -7.10542736e-15  -7.10542736e-15\n",
      "  -7.10542736e-15  -1.42108547e-14   0.00000000e+00  -7.10542736e-15\n",
      "  -7.10542736e-15   0.00000000e+00   0.00000000e+00   0.00000000e+00\n",
      "  -7.10542736e-15  -7.10542736e-15  -7.10542736e-15   0.00000000e+00\n",
      "  -7.10542736e-15   0.00000000e+00  -7.10542736e-15  -1.42108547e-14\n",
      "  -7.10542736e-15   0.00000000e+00  -7.10542736e-15   0.00000000e+00]\n"
     ]
    }
   ],
   "source": [
    "size1 = n\n",
    "vec = np.zeros((size1.size))\n",
    "non_vec = np.zeros((size1.size))\n",
    "extra = np.zeros((size1.size))\n",
    "timer = np.zeros((3))\n",
    "\n",
    "#x = np.zeros((size1.size))\n",
    "for i in range(size1.size):\n",
    "    means = np.random.rand(n[i])\n",
    "    X = np.random.rand(points, n[i])\n",
    "    C = np.random.rand(n[i], n[i])\n",
    "    C = (C + C.T)/16\n",
    "    j = np.arange(C.shape[0])\n",
    "    C[j, j] = 1\n",
    "    \n",
    "    for j in range(1000//((i+1)**3)):\n",
    "        start = time.time()\n",
    "        a = ex8.var_vec(X, means, C)\n",
    "        end = time.time()\n",
    "        timer[0] += (end - start)\n",
    "    \n",
    "        start = time.time()\n",
    "        b = ex8.var_non_vec(X, means, C)\n",
    "        end = time.time()\n",
    "        timer[1] += end - start\n",
    "        \n",
    "        \n",
    "        start = time.time()\n",
    "        c = ex8.var_extra(X, means, C)\n",
    "        end = time.time()\n",
    "        timer[2] += end - start\n",
    "    if  not (a == b).all() or not(a == c).all():\n",
    "        print(\"problems\", a-b, b-c)\n",
    "    timer /= j + 1\n",
    "    vec[i] = timer[0]\n",
    "    non_vec[i] = timer[1]\n",
    "    extra[i] = timer [2]"
   ]
  },
  {
   "cell_type": "code",
   "execution_count": 40,
   "metadata": {
    "collapsed": false
   },
   "outputs": [],
   "source": [
    "x = n\n",
    "plt.plot(x, vec, 'rp-', x, non_vec,'bp-', x, extra, 'gp-')\n",
    "plt.show()"
   ]
  },
  {
   "cell_type": "code",
   "execution_count": null,
   "metadata": {
    "collapsed": true
   },
   "outputs": [],
   "source": []
  }
 ],
 "metadata": {
  "kernelspec": {
   "display_name": "Python 3",
   "language": "python",
   "name": "python3"
  },
  "language_info": {
   "codemirror_mode": {
    "name": "ipython",
    "version": 3
   },
   "file_extension": ".py",
   "mimetype": "text/x-python",
   "name": "python",
   "nbconvert_exporter": "python",
   "pygments_lexer": "ipython3",
   "version": "3.4.3"
  }
 },
 "nbformat": 4,
 "nbformat_minor": 0
}
