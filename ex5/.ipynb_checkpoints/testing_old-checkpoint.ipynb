{
 "cells": [
  {
   "cell_type": "markdown",
   "metadata": {},
   "source": [
    "# Задание 5. Нейросетевой разреженный автокодировщик"
   ]
  },
  {
   "cell_type": "markdown",
   "metadata": {},
   "source": [
    "__Выполнил Алескин Александр, 317 группа.__\n"
   ]
  },
  {
   "cell_type": "markdown",
   "metadata": {},
   "source": [
    "Подгрузим все необходимые библиотеки:"
   ]
  },
  {
   "cell_type": "code",
   "execution_count": 1,
   "metadata": {
    "collapsed": false
   },
   "outputs": [],
   "source": [
    "import numpy as np\n",
    "import scipy.optimize as opt\n",
    "import sklearn as skl\n",
    "import matplotlib.pyplot as plt\n",
    "import sys\n",
    "\n",
    "import importlib\n",
    "\n",
    "%matplotlib inline\n",
    "\n",
    "import sample_patches as patch\n",
    "import display_layer as display\n",
    "import gradient as grad\n",
    "import autoencoder as coder"
   ]
  },
  {
   "cell_type": "markdown",
   "metadata": {},
   "source": [
    "### Часть I. Вывод и анализ работы алгоритма"
   ]
  },
  {
   "cell_type": "code",
   "execution_count": null,
   "metadata": {
    "collapsed": true
   },
   "outputs": [],
   "source": []
  },
  {
   "cell_type": "code",
   "execution_count": null,
   "metadata": {
    "collapsed": true
   },
   "outputs": [],
   "source": []
  },
  {
   "cell_type": "code",
   "execution_count": null,
   "metadata": {
    "collapsed": true
   },
   "outputs": [],
   "source": []
  },
  {
   "cell_type": "code",
   "execution_count": null,
   "metadata": {
    "collapsed": true
   },
   "outputs": [],
   "source": []
  },
  {
   "cell_type": "code",
   "execution_count": null,
   "metadata": {
    "collapsed": true
   },
   "outputs": [],
   "source": []
  },
  {
   "cell_type": "code",
   "execution_count": 2,
   "metadata": {
    "collapsed": false
   },
   "outputs": [],
   "source": [
    "train = np.load('train.pk')\n",
    "dt = patch.sample_patches(train['X'])"
   ]
  },
  {
   "cell_type": "code",
   "execution_count": 38,
   "metadata": {
    "collapsed": false
   },
   "outputs": [],
   "source": [
    "data = dt[:10]\n",
    "ans = data\n",
    "alfa = 0.001\n",
    "p = 0.01\n",
    "beta = 3\n",
    "theta = coder.initialize(np.array([75]), 192)\n",
    "shapes = np.array([192, 75, 192])"
   ]
  },
  {
   "cell_type": "code",
   "execution_count": 89,
   "metadata": {
    "collapsed": true
   },
   "outputs": [],
   "source": [
    "def grad_f(theta, X, Y, shapes, alfa, beta, p):\n",
    "    \n",
    "    size1 = shapes[0]\n",
    "    size2 = shapes[1]\n",
    "    size3 = shapes[2]\n",
    "    n = Y.shape[0]\n",
    "    \n",
    "    if np.isclose(round(size2), size2):\n",
    "        size2 = round(size2)\n",
    "    else:\n",
    "        TypeError('Problems with shapes of theta')\n",
    "    \n",
    "    W1 = theta[:size1 * size2].reshape(size1, size2)\n",
    "    b1 = theta[size1 * size2 : (size1 + 1) * size2]\n",
    "    W2 = theta[(size1 + 1) * size2 : theta.shape[0] - size3].reshape(size2, size3)\n",
    "    b2 = theta[theta.shape[0] - size3:]\n",
    "    \n",
    "    A1 = X.dot(W1) + b1\n",
    "    X1_exp = np.exp(- A1)\n",
    "    X1 = 1 / (1 + X1_exp)\n",
    "    X1_del = X1_exp * X1 ** 2\n",
    "    A2 = X1.dot(W2) + b2\n",
    "    X2_exp = np.exp(-A2)\n",
    "    X2 = 1 / (1 + X2_exp)\n",
    "    \n",
    "    S2 = - (Y - X2) * X2_exp * X2 ** 2 / n\n",
    "    dW2 = X1.T.dot(S2) + alfa * W2\n",
    "    db2 = np.sum(S2, axis = 0)\n",
    "    S1 = S2.dot(W2.T) * X1_del\n",
    "    dW1 = X.T.dot(S1) + alfa * W1 \n",
    "    db1 = np.sum(S1, axis = 0)\n",
    "    \n",
    "    p_real = np.sum(X1, axis = 0) / n\n",
    "    \n",
    "    coef = beta *((p - p_real) / (p_real - 1) / p_real)\n",
    "    dW1 += X.T.dot(coef *X1_del) / n \n",
    "    db1 += coef * np.sum(X1_del, axis = 0) / n\n",
    "    \n",
    "    return np.concatenate((dW1.reshape(-1), db1.reshape(-1), dW2.reshape(-1), db2.reshape(-1)))"
   ]
  },
  {
   "cell_type": "code",
   "execution_count": 90,
   "metadata": {
    "collapsed": false
   },
   "outputs": [],
   "source": [
    "def grad_f2(theta, visible_size, hidden_size, lambda_, sparsity_param, beta, data):\n",
    "    \n",
    "    sizes = np.concatenate((np.array([visible_size]), hidden_size, np.array([visible_size])))\n",
    "    offset = 0\n",
    "    n = data.shape[0]\n",
    "    J = 0\n",
    "    Z = [data]\n",
    "    alfa = lambda_ \n",
    "    \n",
    "    for i in range(len(sizes) - 1):\n",
    "        W = theta[offset : offset + sizes[i] * sizes[i + 1]]\n",
    "        W = W.reshape(sizes[i], sizes[i + 1])\n",
    "        b = theta[offset + sizes[i] * sizes[i + 1] : offset + (sizes[i] + 1) * sizes[i + 1]]\n",
    "        offset += (sizes[i] + 1) * sizes[i + 1]\n",
    "        A = Z[-1].dot(W) + b\n",
    "        Z.append(1 / (1 + np.exp(-A)))\n",
    "        J += alfa / 2 * (np.sum(W ** 2))\n",
    "\n",
    "    S = data - Z[-1]\n",
    "    J += np.sum((S) ** 2) / (n * 2)\n",
    "    dJ = np.array([])\n",
    "    S = - S / n\n",
    "    offset = theta.size\n",
    "    \n",
    "\n",
    "    for i in range(2, len(sizes) + 1):\n",
    "        W = theta[offset -  (sizes[-i] + 1) * sizes[-i + 1] : offset - sizes[-i + 1]]\n",
    "        W = W.reshape(sizes[-i], sizes[-i + 1])\n",
    "        b = theta[offset - sizes[-i + 1] : offset]\n",
    "        offset -= (sizes[-i] + 1) * sizes[-i + 1]\n",
    "        \n",
    "        Z_del = (1 - Z[-i + 1]) * Z[-i + 1] \n",
    "        S = S * Z_del\n",
    "        dW = Z[-i].T.dot(S) + alfa * W\n",
    "        db = np.sum(S, axis = 0)\n",
    "        \n",
    "        p_real = np.sum(Z[-i], axis = 0) / n\n",
    "        if i > 2:\n",
    "            J += beta * np.sum(p * np.log(p / p_real2) + (1 - p) * np.log((1 - p) / (1 - p_real2)))\n",
    "            \n",
    "        if i < len(sizes):\n",
    "            p_real2 = p_real\n",
    "            coefs = beta * ((1 - p) / (1 - p_real) - p / p_real) / n\n",
    "            S = S.dot(W.T) + coefs\n",
    "        \n",
    "        dJ = np.concatenate((dW.reshape(-1), db.reshape(-1), dJ))\n",
    "\n",
    "    return (J, dJ)"
   ]
  },
  {
   "cell_type": "code",
   "execution_count": 84,
   "metadata": {
    "collapsed": false
   },
   "outputs": [],
   "source": [
    "dJ = grad_f(theta, data, ans, shapes, alfa, beta, p)"
   ]
  },
  {
   "cell_type": "code",
   "execution_count": 91,
   "metadata": {
    "collapsed": false
   },
   "outputs": [],
   "source": [
    "\n",
    "J2, dJ3 = grad_f2(theta, 192, np.array([75]), alfa, p, beta, data)"
   ]
  },
  {
   "cell_type": "code",
   "execution_count": 92,
   "metadata": {
    "collapsed": false
   },
   "outputs": [
    {
     "data": {
      "text/plain": [
       "0"
      ]
     },
     "execution_count": 92,
     "metadata": {},
     "output_type": "execute_result"
    }
   ],
   "source": [
    "np.sum(np.isclose(dJ, dJ3, atol = 1e-5) == False)"
   ]
  },
  {
   "cell_type": "code",
   "execution_count": 93,
   "metadata": {
    "collapsed": false
   },
   "outputs": [
    {
     "data": {
      "text/plain": [
       "array([], shape=(0, 1), dtype=int32)"
      ]
     },
     "execution_count": 93,
     "metadata": {},
     "output_type": "execute_result"
    }
   ],
   "source": [
    "np.argwhere(np.isclose(dJ, dJ3, atol = 1e-8) == False)"
   ]
  },
  {
   "cell_type": "code",
   "execution_count": 88,
   "metadata": {
    "collapsed": false
   },
   "outputs": [
    {
     "name": "stdout",
     "output_type": "stream",
     "text": [
      "[ 0.61321968  0.6411928   0.60153998  0.89390635  0.99805422  0.64741748\n",
      "  0.6286063   0.94655024  0.6150312   0.91611202] [ 6.14045413  6.3513312   5.98599065  8.895319    9.91991556  6.44899886\n",
      "  6.22378198  9.42182293  6.095314    9.13868502]\n"
     ]
    }
   ],
   "source": [
    "print(dJ[:10], dJ3[:10])"
   ]
  },
  {
   "cell_type": "code",
   "execution_count": 50,
   "metadata": {
    "collapsed": true
   },
   "outputs": [],
   "source": [
    "def loss_func2(theta, visible_size, hidden_size, lambda_, sparsity_param, beta, data):\n",
    "    \n",
    "    sizes = np.concatenate((np.array([visible_size]), hidden_size, np.array([visible_size])))\n",
    "    offset = 0\n",
    "    n = data.shape[0]\n",
    "    Z = data\n",
    "    p = sparsity_param\n",
    "    J = 0\n",
    "    alfa = lambda_ / 2\n",
    "    \n",
    "    for i in range(len(sizes) - 1):\n",
    "        W = theta[offset : offset + sizes[i] * sizes[i + 1]]\n",
    "        W = W.reshape(sizes[i], sizes[i + 1])\n",
    "        b = theta[offset + sizes[i] * sizes[i + 1] : offset + (sizes[i] + 1) * sizes[i + 1]]\n",
    "        offset += (sizes[i] + 1) * sizes[i + 1]\n",
    "        A = Z.dot(W) + b\n",
    "        Z = 1 / (1 + np.exp(-A))\n",
    "        J += alfa * (np.sum(W ** 2))\n",
    "        if i < len(sizes) - 2:\n",
    "            p_real = np.sum(Z, axis = 0) / n\n",
    "            J += beta * np.sum(p * np.log(p / p_real) + (1 - p) * np.log((1 - p) / (1 - p_real)))\n",
    "               \n",
    "    J += np.sum(np.sum((Z - data) ** 2, axis = 1)) / (n * 2)\n",
    "    \n",
    "    return J"
   ]
  },
  {
   "cell_type": "code",
   "execution_count": 51,
   "metadata": {
    "collapsed": false
   },
   "outputs": [
    {
     "data": {
      "text/plain": [
       "168.3938033813709"
      ]
     },
     "execution_count": 51,
     "metadata": {},
     "output_type": "execute_result"
    }
   ],
   "source": [
    "loss_func(theta, data, ans, shapes, alfa, beta, p)"
   ]
  },
  {
   "cell_type": "code",
   "execution_count": 52,
   "metadata": {
    "collapsed": false
   },
   "outputs": [
    {
     "data": {
      "text/plain": [
       "168.39380338137087"
      ]
     },
     "execution_count": 52,
     "metadata": {},
     "output_type": "execute_result"
    }
   ],
   "source": [
    "loss_func2(theta, 192, np.array([75]), alfa, p, beta, data)"
   ]
  },
  {
   "cell_type": "code",
   "execution_count": null,
   "metadata": {
    "collapsed": true
   },
   "outputs": [],
   "source": [
    "dJ3 = grad.compute_gradient(lambda theta: loss_func2(theta, 192, np.array([75]), alfa, p, beta, data) , theta)"
   ]
  }
 ],
 "metadata": {
  "kernelspec": {
   "display_name": "Python 3",
   "language": "python",
   "name": "python3"
  },
  "language_info": {
   "codemirror_mode": {
    "name": "ipython",
    "version": 3
   },
   "file_extension": ".py",
   "mimetype": "text/x-python",
   "name": "python",
   "nbconvert_exporter": "python",
   "pygments_lexer": "ipython3",
   "version": "3.5.0"
  }
 },
 "nbformat": 4,
 "nbformat_minor": 0
}
