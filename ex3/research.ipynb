{
 "cells": [
  {
   "cell_type": "markdown",
   "metadata": {},
   "source": [
    "### Исследования в рамках третьего задания практикума ЭВМ\n",
    "Выполнено Алескиным Александром"
   ]
  },
  {
   "cell_type": "markdown",
   "metadata": {},
   "source": [
    "Подключим необходимые библиотеки.\n",
    "Так же подключим реализованный класс MySVM. Переменные класса:\n",
    "\n",
    "* X_ - матрица признаков обучаемой выборки\n",
    "* y_ - ответы обцчаемой выборки\n",
    "* C_ - параметр минимизации\n",
    "* A_ - матрица коэффициентов двойственной задачи\n",
    "* w_ - вектор весов\n",
    "* b_ - смещение \n",
    "* ksi_ - коэффициенты(переменные) прямой задачи\n",
    "* sup\\_vec_ - опорные вектора\n",
    "* gamma_ - параметр rbf ядра\n",
    "* obj\\_curve_ - значение целевой функции на последней итерации(или вектор при проверки в стохастическом варианте)\n",
    "\n",
    "\n",
    "\n",
    "Интерфейс класса:\n",
    "\n",
    "* fit(X, y, C) $-$ функция инициализации переменных класса. Х - матрица признаков, у - ответы, С - константа\n",
    "* svm_qp_primal_solver(tol= 1e-6, max_iter= 100, verbose= False)  \n",
    "* svm_qp_dual_solver(tol=1e-6, max_iter=100, verbose=False, gamma=0) \n",
    "* svm_liblinear_solver(tol= 1e-6, max_iter= 100, verbose= False)\n",
    "* svm_libsvm_solver(tol = 1e-6, max_iter = 100,verbose = False, gamma = 0)\n",
    "* compute_w()\n",
    "* compute_support_vectors()\n",
    "* predict(Y) $-$ классифицирует объекты по матрицы признаков Y\n",
    "* visualize()\n",
    "* compute_primal_objective()\n",
    "* compute_dual_objective()\n",
    "* svm_subgradient_solver(sw_start, w0 = 0, step = _const_, a = 0.01, b = 0.1, max_iter= 100, verbose= False, tol= 1e-6, rule = 'f', stochastic = False, func = 0, norma = 0, sub = 0.5) Аргументы функции: \n",
    "     * sw_start - начальное значение вектора весов\n",
    "     * w0 - начальное значение смещения \n",
    "     * step - функция аргументов (номер итерации, параметр a, параметр b) для выбора длины шага (базовый вариант: $ a / it ^ b $) \n",
    "     * a и b - аргументы функции step \n",
    "     * rule - правило останова по изменению функционала('f') или по норме вектора весов('n')\n",
    "     * stohastic - стохастический вариант ли\n",
    "     * func и norma - значение для проверки правильности сходимости алгоритма(используется при verbose = True)\n",
    "     * sub - доля объектов для стохастического метода(на основании которых делается шаг)"
   ]
  },
  {
   "cell_type": "code",
   "execution_count": 2,
   "metadata": {
    "collapsed": false
   },
   "outputs": [],
   "source": [
    "import numpy as np\n",
    "import matplotlib.pyplot as plt\n",
    "import sys\n",
    "direct = '/home/alex/prak/ex3/'\n",
    "sys.path.append(direct)\n",
    "import megasvm as msvm"
   ]
  },
  {
   "cell_type": "markdown",
   "metadata": {},
   "source": [
    "#### 1. Исследовать зависимость времени работы реализованных методов для решения задачи линейного SVM от размерности признакового пространства и числа объектов в обучающей выборке. Исследовать скорость сходимости методов. Сравнить методы по полученным значениям целевой функции."
   ]
  },
  {
   "cell_type": "markdown",
   "metadata": {},
   "source": [
    "Задамим данные:"
   ]
  },
  {
   "cell_type": "code",
   "execution_count": 240,
   "metadata": {
    "collapsed": false
   },
   "outputs": [],
   "source": [
    "features = np.array([2, 5, 10, 50, 100, 500, 1000])\n",
    "objects = np.array([100, 250, 500, 1000])       \n",
    "answers = np.zeros((features.size, objects.size, 6, 2)) # 6 - methods, 0 - time, 1 - function\n",
    "svm = msvm.MySVM()\n",
    "                   \n",
    "method = [svm.svm_qp_primal_solver, svm.svm_qp_dual_solver, svm.svm_subgradient_solver,\n",
    "          svm.svm_subgradient_solver, svm.svm_liblinear_solver, svm.svm_libsvm_solver]\n",
    "\n",
    "titles = ['qp primal', 'qp dual', 'subgradient', 'stohastic subgtadient', 'liblinear', 'libsvm']"
   ]
  },
  {
   "cell_type": "markdown",
   "metadata": {},
   "source": [
    "Генерируем для каждого значения данные и вычисляем искомые значения(так как в данном пункте геометрические особенности классов не играет значения, то выберем наиболее удобные):"
   ]
  },
  {
   "cell_type": "code",
   "execution_count": 142,
   "metadata": {
    "collapsed": false
   },
   "outputs": [],
   "source": [
    "for obj in range(objects.size):\n",
    "    for ft in range(features.size):\n",
    "        X = np.vstack((np.random.multivariate_normal(np.zeros((features[ft])), np.eye(features[ft]), objects[obj]),\n",
    "                       np.random.multivariate_normal(np.ones((features[ft])), np.eye(features[ft]), objects[obj])))\n",
    "        y = np.vstack((np.ones((objects[obj], 1)), - np.ones((objects[obj], 1))))\n",
    "        svm.fit(X, y, 0.1)\n",
    "        for i in range(6):\n",
    "            if i == 3:\n",
    "                result = method[i](stochastic = True, sub = 0,4)\n",
    "            else:\n",
    "                result = method[i]()\n",
    "            answers[ft, obj, i, 0] = result['time']\n",
    "            answers[ft, obj, i, 1] = svm.compute_primal_objective()"
   ]
  },
  {
   "cell_type": "markdown",
   "metadata": {},
   "source": [
    "Пример визуализации:"
   ]
  },
  {
   "cell_type": "code",
   "execution_count": 4,
   "metadata": {
    "collapsed": false
   },
   "outputs": [
    {
     "name": "stderr",
     "output_type": "stream",
     "text": [
      "/home/alex/anaconda3/lib/python3.5/site-packages/matplotlib/collections.py:590: FutureWarning: elementwise comparison failed; returning scalar instead, but in the future will perform elementwise comparison\n",
      "  if self._edgecolors == str('face'):\n",
      "/home/alex/anaconda3/lib/python3.5/site-packages/sklearn/svm/base.py:209: ConvergenceWarning: Solver terminated early (max_iter=100).  Consider pre-processing your data with StandardScaler or MinMaxScaler.\n",
      "  % self.max_iter, ConvergenceWarning)\n"
     ]
    }
   ],
   "source": [
    "ft = 0\n",
    "obj = 0\n",
    "X = np.vstack((np.random.multivariate_normal(np.zeros((features[ft])), np.eye(features[ft]), objects[obj]),\n",
    "               np.random.multivariate_normal(np.ones((features[ft])), np.eye(features[ft]), objects[obj])))\n",
    "y = np.vstack((np.ones((objects[obj], 1)), - np.ones((objects[obj], 1))))\n",
    "svm.fit(X, y, 0.5)\n",
    "for i in range(6):\n",
    "    if i == 3:\n",
    "        method[i](stochastic = True)\n",
    "    else:\n",
    "        method[i]()\n",
    "    plt.title(titles[i])   \n",
    "    svm.visualize()\n",
    "    plt.savefig('/home/alex/prak/ex3/' + titles[i] + '.pdf')\n",
    "    "
   ]
  },
  {
   "cell_type": "markdown",
   "metadata": {
    "collapsed": true
   },
   "source": [
    "Изобразим на графике время работы, как функцию от размерности пространства при 1000 элементах и как функции от количества элементов при 100 признаках:"
   ]
  },
  {
   "cell_type": "code",
   "execution_count": 191,
   "metadata": {
    "collapsed": false
   },
   "outputs": [],
   "source": [
    "obj = 2\n",
    "for i in range(6):\n",
    "    plt.plot(range(len(features)), answers[:, obj, i, 0], '-o')\n",
    "plt.title('Time of training with 1000 objects')\n",
    "plt.legend(titles, loc='upper left')\n",
    "\n",
    "plt.xticks(range(len(features)), features)\n",
    "plt.ylabel('time, s')\n",
    "plt.xlabel('number of features')\n",
    "plt.yscale('log')\n",
    "ax = np.array(plt.axis())\n",
    "ax[3] *= 10\n",
    "plt.axis(ax)\n",
    "#plt.savefig(direct + 'linear time, obj1000' + '.pdf')\n",
    "plt.show()\n"
   ]
  },
  {
   "cell_type": "code",
   "execution_count": 188,
   "metadata": {
    "collapsed": false
   },
   "outputs": [],
   "source": [
    "ft = 4\n",
    "for i in range(6):\n",
    "    plt.plot(range(len(objects)), answers[ft, :, i, 0], '-o')\n",
    "plt.title('Time of training with 100 features')\n",
    "plt.legend(titles, loc='upper left')\n",
    "\n",
    "plt.xticks(range(len(objects)), objects)\n",
    "plt.ylabel('time, s')\n",
    "plt.xlabel('number of objects')\n",
    "plt.yscale('log')\n",
    "ax = np.array(plt.axis())\n",
    "ax[3] *= 10\n",
    "plt.axis(ax)\n",
    "#plt.savefig(direct + 'linear time, feat100' + '.pdf')\n",
    "plt.show()\n"
   ]
  },
  {
   "cell_type": "markdown",
   "metadata": {},
   "source": [
    "Аналогично с функционалом:"
   ]
  },
  {
   "cell_type": "code",
   "execution_count": 216,
   "metadata": {
    "collapsed": false
   },
   "outputs": [],
   "source": [
    "obj = 2\n",
    "for i in range(6):\n",
    "    plt.plot(range(len(features)), answers[:, obj, i, 1], '-o')\n",
    "plt.title('Value of training with 1000 objects')\n",
    "plt.legend(titles, loc='lower left')\n",
    "\n",
    "plt.xticks(range(len(features)), features)\n",
    "plt.ylabel('value')\n",
    "plt.xlabel('number of features')\n",
    "plt.yscale('log')\n",
    "ax = np.array(plt.axis())\n",
    "ax[3] *= 10\n",
    "plt.axis(ax)\n",
    "plt.savefig(direct + 'linear func, obj1000' + '.pdf')\n",
    "plt.show()\n"
   ]
  },
  {
   "cell_type": "code",
   "execution_count": 244,
   "metadata": {
    "collapsed": false
   },
   "outputs": [],
   "source": [
    "ft = 4\n",
    "for i in range(6):\n",
    "    plt.plot(range(len(objects)), answers[ft, :, i, 1], '-o')\n",
    "plt.title('Value of function in primal problem  with 100 features')\n",
    "plt.legend(titles, loc='upper left')\n",
    "\n",
    "plt.xticks(range(len(objects)), objects)\n",
    "plt.ylabel('value')\n",
    "plt.xlabel('number of objects')\n",
    "plt.yscale('log')\n",
    "ax = np.array(plt.axis())\n",
    "ax[3] *= 10\n",
    "plt.axis(ax)\n",
    "#plt.savefig(direct + 'linear func, obj1000' + '.pdf')\n",
    "plt.show()\n"
   ]
  },
  {
   "cell_type": "markdown",
   "metadata": {},
   "source": [
    "### 2. Провести эти исследования для случая SVM с RBF ядром для тех методов, где возможен ядровой переход."
   ]
  },
  {
   "cell_type": "markdown",
   "metadata": {},
   "source": [
    "Начальные данные:"
   ]
  },
  {
   "cell_type": "code",
   "execution_count": 251,
   "metadata": {
    "collapsed": true
   },
   "outputs": [],
   "source": [
    "features = np.array([2, 50, 100, 500, 1000])\n",
    "objects = np.array([100, 250, 500, 1000]) # долго очень считается \n",
    "answers2 = np.zeros((features.size, objects.size, 2, 2)) # 2 - methods, 0 - time, 1 - function\n",
    "method = [svm.svm_qp_dual_solver, svm.svm_libsvm_solver]\n",
    "titles = [ 'qp dual with rbf kernel', 'libsvm with rbf kernel']"
   ]
  },
  {
   "cell_type": "markdown",
   "metadata": {},
   "source": [
    "Вычисление:"
   ]
  },
  {
   "cell_type": "code",
   "execution_count": 252,
   "metadata": {
    "collapsed": false
   },
   "outputs": [
    {
     "name": "stderr",
     "output_type": "stream",
     "text": [
      "/home/alex/anaconda3/lib/python3.5/site-packages/sklearn/svm/base.py:209: ConvergenceWarning: Solver terminated early (max_iter=100).  Consider pre-processing your data with StandardScaler or MinMaxScaler.\n",
      "  % self.max_iter, ConvergenceWarning)\n"
     ]
    }
   ],
   "source": [
    "for obj in range(objects.size):\n",
    "    for ft in range(features.size):\n",
    "        X = np.vstack((np.random.multivariate_normal(np.zeros((features[ft])), np.eye(features[ft]), objects[obj]),\n",
    "                       np.random.multivariate_normal(2 * np.ones((features[ft])), np.eye(features[ft]), objects[obj])))\n",
    "        y = np.vstack((np.ones((objects[obj], 1)), - np.ones((objects[obj], 1))))\n",
    "        svm.fit(X, y, 0.5)\n",
    "        for i in range(2):\n",
    "            result = method[i](gamma = 0.5)\n",
    "            answers2[ft, obj, i, 0] = result['time']\n",
    "            answers2[ft, obj, i, 1] = svm.compute_dual_objective()"
   ]
  },
  {
   "cell_type": "markdown",
   "metadata": {},
   "source": [
    "Графики:"
   ]
  },
  {
   "cell_type": "code",
   "execution_count": 220,
   "metadata": {
    "collapsed": false
   },
   "outputs": [
    {
     "name": "stderr",
     "output_type": "stream",
     "text": [
      "/home/alex/anaconda3/lib/python3.5/site-packages/matplotlib/collections.py:590: FutureWarning: elementwise comparison failed; returning scalar instead, but in the future will perform elementwise comparison\n",
      "  if self._edgecolors == str('face'):\n",
      "/home/alex/anaconda3/lib/python3.5/site-packages/sklearn/svm/base.py:209: ConvergenceWarning: Solver terminated early (max_iter=100).  Consider pre-processing your data with StandardScaler or MinMaxScaler.\n",
      "  % self.max_iter, ConvergenceWarning)\n"
     ]
    }
   ],
   "source": [
    "ft = 0\n",
    "obj = 0\n",
    "X = np.vstack((np.random.multivariate_normal(np.zeros((features[ft])), np.eye(features[ft]), objects[obj]),\n",
    "               np.random.multivariate_normal(np.ones((features[ft])), np.eye(features[ft]), objects[obj])))\n",
    "y = np.vstack((np.ones((objects[obj], 1)), - np.ones((objects[obj], 1))))\n",
    "svm.fit(X, y, 0.5)\n",
    "for i in range(2):\n",
    "    method[i](gamma = 0.5)\n",
    "    plt.title(titles[i])   \n",
    "    svm.visualize()\n",
    "    plt.savefig('/home/alex/prak/ex3/' + titles[i] + '.pdf')\n",
    "\n",
    "plt.show()\n"
   ]
  },
  {
   "cell_type": "code",
   "execution_count": 245,
   "metadata": {
    "collapsed": false
   },
   "outputs": [],
   "source": [
    "obj = 2\n",
    "for i in range(2):\n",
    "    plt.plot(range(len(features)), answers2[:, obj, i, 0], '-o')\n",
    "for i in range(6):\n",
    "    if i == 1 or i == 5:\n",
    "        plt.plot(range(len(features)), answers[[0,2,3,4,5], obj, i, 0], '--o')\n",
    "plt.title('Time of training with 1000 objects')\n",
    "plt.legend(['qp dual with rbf kernel', 'libsvm with rbf kernel', 'qp dual linear', 'libsvm linear'],\n",
    "           loc='upper left')\n",
    "\n",
    "plt.xticks(range(len(features)), features)\n",
    "plt.ylabel('times,')\n",
    "plt.xlabel('number of features')\n",
    "plt.yscale('log')\n",
    "ax = np.array(plt.axis())\n",
    "ax[3] *= 10\n",
    "plt.axis(ax)\n",
    "#plt.savefig(direct + 'rbf time, obj1000' + '.pdf')\n",
    "plt.show()\n",
    "plt.close()"
   ]
  },
  {
   "cell_type": "code",
   "execution_count": 235,
   "metadata": {
    "collapsed": false
   },
   "outputs": [],
   "source": [
    "for i in range(2):\n",
    "    plt.plot(range(len(objects)), answers2[2, :, i, 0], '-o')\n",
    "for i in range(6):\n",
    "    if i == 1 or i == 5:\n",
    "        plt.plot(range(len(objects)), answers[4, :4, i, 0], '--o')\n",
    "plt.title('Time in dual problem  with 100 features and rbf kernel')\n",
    "plt.legend(['qp dual with rbf kernel', 'libsvm with rbf kernel', 'qp dual linear', 'libsvm linear'],\n",
    "           loc='upper left')\n",
    "\n",
    "plt.xticks(range(len(objects)), objects)\n",
    "plt.ylabel('value')\n",
    "plt.xlabel('number of objects')\n",
    "plt.yscale('log')\n",
    "ax = np.array(plt.axis())\n",
    "ax[3] *= 10\n",
    "plt.axis(ax)\n",
    "plt.savefig(direct + 'rbf time, feat100' + '.pdf')\n",
    "plt.show()\n",
    "plt.close()"
   ]
  },
  {
   "cell_type": "code",
   "execution_count": 254,
   "metadata": {
    "collapsed": false
   },
   "outputs": [],
   "source": [
    "obj = 2\n",
    "for i in range(2):\n",
    "    plt.plot(range(len(features)), answers2[:, obj, i, 1], '-o')\n",
    "plt.title('Function value in dual problem with 1000 objects')\n",
    "plt.legend(titles, loc='upper left')\n",
    "\n",
    "plt.xticks(range(len(features)), features)\n",
    "plt.ylabel('value')\n",
    "plt.xlabel('number of features')\n",
    "plt.yscale('log')\n",
    "ax = np.array(plt.axis())\n",
    "ax[3] *= 10\n",
    "plt.axis(ax)\n",
    "plt.savefig(direct + 'rbffuncobj1000' + '.pdf')\n",
    "plt.show()\n",
    "plt.close()"
   ]
  },
  {
   "cell_type": "code",
   "execution_count": 238,
   "metadata": {
    "collapsed": false
   },
   "outputs": [],
   "source": [
    "ft = 4\n",
    "for i in range(2):\n",
    "    plt.plot(range(len(objects)), answers2[ft, :, i, 1], '-o')\n",
    "plt.title('Function in dual problem  with 100 features and rbf kernel')\n",
    "plt.legend(titles, loc='upper left')\n",
    "\n",
    "plt.xticks(range(len(objects)), objects)\n",
    "plt.ylabel('value')\n",
    "plt.xlabel('number of objects')\n",
    "plt.yscale('log')\n",
    "ax = np.array(plt.axis())\n",
    "ax[3] *= 10\n",
    "plt.axis(ax)\n",
    "plt.savefig(direct + 'rbf func, func100' + '.pdf')\n",
    "plt.show()\n",
    "plt.close()"
   ]
  },
  {
   "cell_type": "markdown",
   "metadata": {},
   "source": [
    "#### 3. Реализовать процедуру поиска оптимального значения параметра C и ширины RBF ядра с помощью кросс-валидации (можно воспользоваться библиотекой scikit-learn). Исследовать зависимость ошибки на валидационной выборке от значений этих параметров. Рассмотреть случаи хорошо и трудно разделимых выборок."
   ]
  },
  {
   "cell_type": "markdown",
   "metadata": {},
   "source": [
    "Исходные данные:"
   ]
  },
  {
   "cell_type": "code",
   "execution_count": 3,
   "metadata": {
    "collapsed": false
   },
   "outputs": [],
   "source": [
    "from sklearn.cross_validation import KFold\n",
    "\n",
    "svm = msvm.MySVM()\n",
    "C = np.linspace(0.1, 1, num = 10)\n",
    "rbf  = np.linspace(0.1, 2, num = 20)\n",
    "mistake = np.zeros((C.size, rbf.size))\n",
    "obj = 800\n",
    "obj_h = obj // 2\n",
    "ft = 2\n",
    "folds = KFold(obj, 4, shuffle= True, random_state= 241)"
   ]
  },
  {
   "cell_type": "markdown",
   "metadata": {},
   "source": [
    "Случай хорошо разделимой выборки:"
   ]
  },
  {
   "cell_type": "code",
   "execution_count": 257,
   "metadata": {
    "collapsed": false
   },
   "outputs": [
    {
     "name": "stderr",
     "output_type": "stream",
     "text": [
      "/home/alex/anaconda3/lib/python3.5/site-packages/sklearn/svm/base.py:209: ConvergenceWarning: Solver terminated early (max_iter=100).  Consider pre-processing your data with StandardScaler or MinMaxScaler.\n",
      "  % self.max_iter, ConvergenceWarning)\n"
     ]
    }
   ],
   "source": [
    "mistake = np.zeros((C.size, rbf.size))\n",
    "X_pp =  np.random.multivariate_normal(2 * np.ones((2)), 2 * np.eye(2), obj_h * 20)\n",
    "X_p = X_pp[np.where(np.linalg.norm(X_pp, axis = 1) > 1)]\n",
    "X_p = X_p[:obj_h]\n",
    "X_m = np.random.multivariate_normal(np.zeros((2)), 0.5 * np.eye(2), obj_h)\n",
    "X = np.vstack((X_p, X_m))\n",
    "y = np.vstack((np.ones((obj_h, 1)), - np.ones((obj_h, 1))))\n",
    "\n",
    "for i in range(C.size):\n",
    "    for j in range(rbf.size):\n",
    "        for train, test in folds:\n",
    "            svm.fit(X[train], y[train], C[i])\n",
    "            svm.svm_libsvm_solver(gamma = rbf[j])\n",
    "            predict = svm.predict(X[test])\n",
    "            mistake[i, j] += np.sum(predict != y[test])/y[test].size\n",
    "mistake /= 4"
   ]
  },
  {
   "cell_type": "markdown",
   "metadata": {},
   "source": [
    "Визуализируем порядок ошибки:"
   ]
  },
  {
   "cell_type": "code",
   "execution_count": 261,
   "metadata": {
    "collapsed": false
   },
   "outputs": [
    {
     "name": "stderr",
     "output_type": "stream",
     "text": [
      "/home/alex/anaconda3/lib/python3.5/site-packages/matplotlib/collections.py:590: FutureWarning: elementwise comparison failed; returning scalar instead, but in the future will perform elementwise comparison\n",
      "  if self._edgecolors == str('face'):\n"
     ]
    }
   ],
   "source": [
    "plt.matshow(mistake)\n",
    "plt.yticks(range(len(C)), C)\n",
    "plt.xticks(range(len(rbf)), rbf)\n",
    "plt.colorbar()\n",
    "plt.title('Mistake of prediction with rbf kernel(easy sample)')\n",
    "plt.xlabel('parameter gamma')\n",
    "plt.ylabel('parameter C')\n",
    "plt.savefig(direct + 'easymistake.pdf')\n",
    "plt.show()"
   ]
  },
  {
   "cell_type": "code",
   "execution_count": 262,
   "metadata": {
    "collapsed": false
   },
   "outputs": [
    {
     "name": "stdout",
     "output_type": "stream",
     "text": [
      "оптимальные значения при C = 0.700000, Gamma = 0.200000. и равно 0.057500\n"
     ]
    },
    {
     "name": "stderr",
     "output_type": "stream",
     "text": [
      "/home/alex/anaconda3/lib/python3.5/site-packages/matplotlib/collections.py:590: FutureWarning: elementwise comparison failed; returning scalar instead, but in the future will perform elementwise comparison\n",
      "  if self._edgecolors == str('face'):\n"
     ]
    }
   ],
   "source": [
    "i = np.argmin(mistake)\n",
    "k = i // rbf.size\n",
    "l = i % rbf.size\n",
    "print('оптимальные значения при C = %f, Gamma = %f. и равно %f' % (C[k], rbf[l], mistake[k,l]))\n",
    "svm.fit(X[train], y[train], C[k])\n",
    "svm.svm_libsvm_solver( gamma = rbf[l])\n",
    "svm.visualize()\n",
    "plt.title('Separating of easy sample')\n",
    "#plt.savefig(direct + 'easy_mistake_map.pdf')\n",
    "plt.show()"
   ]
  },
  {
   "cell_type": "markdown",
   "metadata": {},
   "source": [
    "Cлучай сложной разделимости:"
   ]
  },
  {
   "cell_type": "code",
   "execution_count": 7,
   "metadata": {
    "collapsed": false
   },
   "outputs": [
    {
     "name": "stderr",
     "output_type": "stream",
     "text": [
      "/home/alex/anaconda3/lib/python3.5/site-packages/sklearn/svm/base.py:209: ConvergenceWarning: Solver terminated early (max_iter=100).  Consider pre-processing your data with StandardScaler or MinMaxScaler.\n",
      "  % self.max_iter, ConvergenceWarning)\n"
     ]
    }
   ],
   "source": [
    "mistake = np.zeros((C.size, rbf.size))\n",
    "X_p1 =  np.random.multivariate_normal(np.ones((2)), 1.5 * np.eye(2), obj_h )\n",
    "#X_p2 =  np.random.multivariate_normal(-np.ones((2)), 0.7 * np.eye(2), obj_h // 2)\n",
    "X_m = np.random.multivariate_normal(np.zeros((2)), np.eye(2), obj_h)\n",
    "X = np.vstack((X_p1, X_m))\n",
    "y = np.vstack((np.ones((obj_h, 1)), - np.ones((obj_h, 1))))\n",
    "\n",
    "for i in range(C.size):\n",
    "    for j in range(rbf.size):\n",
    "        for train, test in folds:\n",
    "            svm.fit(X[train], y[train], C[i])\n",
    "            svm.svm_libsvm_solver(gamma = rbf[j])\n",
    "            predict = svm.predict(X[test])\n",
    "            mistake[i, j] += np.sum(predict != y[test])/y[test].size\n",
    "mistake /= 4"
   ]
  },
  {
   "cell_type": "code",
   "execution_count": 8,
   "metadata": {
    "collapsed": false
   },
   "outputs": [
    {
     "name": "stderr",
     "output_type": "stream",
     "text": [
      "/home/alex/anaconda3/lib/python3.5/site-packages/matplotlib/collections.py:590: FutureWarning: elementwise comparison failed; returning scalar instead, but in the future will perform elementwise comparison\n",
      "  if self._edgecolors == str('face'):\n"
     ]
    }
   ],
   "source": [
    "plt.matshow(mistake)\n",
    "plt.yticks(range(len(C)), C)\n",
    "plt.xticks(range(len(rbf)), rbf)\n",
    "plt.colorbar()\n",
    "plt.title('Mistake of prediction with rbf kernel(hard sample)')\n",
    "plt.savefig(direct + 'hard_mistake.pdf')\n",
    "plt.show()"
   ]
  },
  {
   "cell_type": "code",
   "execution_count": 9,
   "metadata": {
    "collapsed": false
   },
   "outputs": [
    {
     "name": "stderr",
     "output_type": "stream",
     "text": [
      "/home/alex/anaconda3/lib/python3.5/site-packages/sklearn/svm/base.py:209: ConvergenceWarning: Solver terminated early (max_iter=100).  Consider pre-processing your data with StandardScaler or MinMaxScaler.\n",
      "  % self.max_iter, ConvergenceWarning)\n",
      "/home/alex/anaconda3/lib/python3.5/site-packages/matplotlib/collections.py:590: FutureWarning: elementwise comparison failed; returning scalar instead, but in the future will perform elementwise comparison\n",
      "  if self._edgecolors == str('face'):\n"
     ]
    },
    {
     "name": "stdout",
     "output_type": "stream",
     "text": [
      "оптимальные значения при C = 0.100000, Gamma = 0.700000. и равно 0.298750\n"
     ]
    }
   ],
   "source": [
    "i = np.argmin(mistake)\n",
    "k = i // rbf.size\n",
    "l = i % rbf.size\n",
    "print('оптимальные значения при C = %f, Gamma = %f. и равно %f' % (C[k], rbf[l], mistake[k,l]))\n",
    "svm.fit(X[train], y[train], C[k])\n",
    "svm.svm_libsvm_solver( gamma = rbf[l])\n",
    "svm.visualize()\n",
    "plt.title('Separating hard simple')\n",
    "plt.savefig(direct + 'hard_mistake_map.pdf')\n",
    "plt.show()"
   ]
  },
  {
   "cell_type": "markdown",
   "metadata": {},
   "source": [
    "#### 4. Сравнить (по скорости сходимости и точности решения) несколько стратегий выбора шага $ α_t $ в методе субградиентого спуска: α, α/t , $α/t^β$ , где α, β — некоторые константы, t — номер итерации."
   ]
  },
  {
   "cell_type": "markdown",
   "metadata": {},
   "source": [
    "В качестве точного значения выберем следующие значения:"
   ]
  },
  {
   "cell_type": "markdown",
   "metadata": {},
   "source": [
    "Вообще говоря, шаг должен зависеть от количества объектов. Проверим на 3 выборках (в качестве точного значения выберем следующие значения):"
   ]
  },
  {
   "cell_type": "code",
   "execution_count": 33,
   "metadata": {
    "collapsed": true
   },
   "outputs": [],
   "source": [
    "objects = np.array([100, 500, 1000]) \n",
    "a = np.array([0.00001, 0.0001, 0.001, 0.005, 0.01, 0.05, 0.1, 0.5, 1, 10])\n",
    "b = np.linspace(0, 2, num = 21)\n",
    "times = np.zeros((a.size, b.size, objects.size))\n",
    "func = times.copy()\n",
    "its = func.copy()\n"
   ]
  },
  {
   "cell_type": "code",
   "execution_count": 39,
   "metadata": {
    "collapsed": false
   },
   "outputs": [
    {
     "name": "stderr",
     "output_type": "stream",
     "text": [
      "/home/alex/prak/ex3/megasvm.py:167: RuntimeWarning: overflow encountered in multiply\n",
      "  w_i = w_i - g * step(it, a, b)\n",
      "/home/alex/prak/ex3/megasvm.py:167: RuntimeWarning: invalid value encountered in subtract\n",
      "  w_i = w_i - g * step(it, a, b)\n"
     ]
    }
   ],
   "source": [
    "for i in range(objects.size):\n",
    "    X_p = np.random.multivariate_normal(2 * np.ones((2)), np.eye(2), objects[i])\n",
    "    X_m = np.random.multivariate_normal(np.zeros((2)), np.eye(2), objects[i])\n",
    "    X = np.vstack((X_p, X_m))\n",
    "    y = np.vstack((np.ones((objects[i], 1)), - np.ones((objects[i], 1))))\n",
    "    svm.fit(X, y, 0.1)\n",
    "    result = svm.svm_qp_primal_solver(tol = 1e-10, max_iter = 1000)\n",
    "    val = result['objective_curve']\n",
    "    for k in range(a.size):\n",
    "        for l in range(b.size):  \n",
    "            result = svm.svm_subgradient_solver(a = a[k], b = b[l], max_iter= 10000, verbose = True, func = val)\n",
    "            times[k, l, i] = result['time']\n",
    "            func[k, l, i] = result['objective_curve'][-1]\n",
    "            its[k, l, i] = result['iter']\n",
    "            "
   ]
  },
  {
   "cell_type": "markdown",
   "metadata": {},
   "source": [
    "Оценим сходимость:"
   ]
  },
  {
   "cell_type": "code",
   "execution_count": 41,
   "metadata": {
    "collapsed": false
   },
   "outputs": [
    {
     "name": "stderr",
     "output_type": "stream",
     "text": [
      "/home/alex/anaconda3/lib/python3.5/site-packages/matplotlib/collections.py:590: FutureWarning: elementwise comparison failed; returning scalar instead, but in the future will perform elementwise comparison\n",
      "  if self._edgecolors == str('face'):\n"
     ]
    }
   ],
   "source": [
    "plt.matshow(func[:, :, 0])\n",
    "plt.yticks(range(len(a)), a)\n",
    "plt.xticks(range(len(b)), b)\n",
    "plt.colorbar()\n",
    "plt.title('Function in primal problem with 200 objects')\n",
    "plt.xlabel('b')\n",
    "plt.ylabel('a')\n",
    "plt.show()"
   ]
  },
  {
   "cell_type": "code",
   "execution_count": 53,
   "metadata": {
    "collapsed": false
   },
   "outputs": [
    {
     "name": "stderr",
     "output_type": "stream",
     "text": [
      "/home/alex/anaconda3/lib/python3.5/site-packages/matplotlib/collections.py:590: FutureWarning: elementwise comparison failed; returning scalar instead, but in the future will perform elementwise comparison\n",
      "  if self._edgecolors == str('face'):\n"
     ]
    }
   ],
   "source": [
    "plt.matshow(func[:, :, 1])\n",
    "plt.yticks(range(len(a)), a)\n",
    "plt.xticks(range(len(b)), b)\n",
    "plt.colorbar()\n",
    "plt.title('Function in primal problem with 1000 objects')\n",
    "plt.xlabel('b')\n",
    "plt.ylabel('a')\n",
    "plt.savefig(direct + 'subgrad_functional.pdf')\n",
    "plt.show()"
   ]
  },
  {
   "cell_type": "code",
   "execution_count": 43,
   "metadata": {
    "collapsed": false
   },
   "outputs": [
    {
     "name": "stderr",
     "output_type": "stream",
     "text": [
      "/home/alex/anaconda3/lib/python3.5/site-packages/matplotlib/collections.py:590: FutureWarning: elementwise comparison failed; returning scalar instead, but in the future will perform elementwise comparison\n",
      "  if self._edgecolors == str('face'):\n"
     ]
    }
   ],
   "source": [
    "plt.matshow(func[:, :, 2])\n",
    "plt.yticks(range(len(a)), a)\n",
    "plt.xticks(range(len(b)), b)\n",
    "plt.colorbar()\n",
    "plt.title('Function in primal problem with 2000 objects')\n",
    "plt.xlabel('b')\n",
    "plt.ylabel('a')\n",
    "plt.show()"
   ]
  },
  {
   "cell_type": "markdown",
   "metadata": {},
   "source": [
    "Оценим количество итераций:"
   ]
  },
  {
   "cell_type": "code",
   "execution_count": 54,
   "metadata": {
    "collapsed": false
   },
   "outputs": [
    {
     "name": "stderr",
     "output_type": "stream",
     "text": [
      "/home/alex/anaconda3/lib/python3.5/site-packages/matplotlib/collections.py:590: FutureWarning: elementwise comparison failed; returning scalar instead, but in the future will perform elementwise comparison\n",
      "  if self._edgecolors == str('face'):\n"
     ]
    }
   ],
   "source": [
    "plt.matshow(its[:, :, 1])\n",
    "plt.yticks(range(len(a)), a)\n",
    "plt.xticks(range(len(b)), b)\n",
    "plt.colorbar()\n",
    "plt.title('Iterations in primal problem with 1000 objects')\n",
    "plt.xlabel('b')\n",
    "plt.ylabel('a')\n",
    "plt.savefig(direct + 'subgrad_iters.pdf')\n",
    "plt.show()"
   ]
  },
  {
   "cell_type": "markdown",
   "metadata": {},
   "source": [
    "#### 5. Исследовать, как размер подвыборки, по которой считается субградиент, в методе стохастического субградиентного спуска влияет на скорость сходимости метода и на точность решения."
   ]
  },
  {
   "cell_type": "code",
   "execution_count": 265,
   "metadata": {
    "collapsed": false
   },
   "outputs": [],
   "source": [
    "nup = np.linspace(0.01, 1, num = 50)\n",
    "func  = np.zeros((nup.shape))\n",
    "iters = func.copy()\n",
    "times = func.copy()\n",
    "objects = 500\n",
    "for i in range(100):\n",
    "    X_p = np.random.multivariate_normal(2 * np.ones((2)), np.eye(2), objects)\n",
    "    X_m = np.random.multivariate_normal(np.zeros((2)), np.eye(2), objects)\n",
    "    X = np.vstack((X_p, X_m))\n",
    "    y = np.vstack((np.ones((objects, 1)), - np.ones((objects, 1))))\n",
    "    svm.fit(X, y, 0.1)\n",
    "    result = svm.svm_qp_primal_solver(tol = 1e-10, max_iter = 1000)\n",
    "    val = result['objective_curve']\n",
    "    for l in range(nup.size):  \n",
    "        result = svm.svm_subgradient_solver(a = 0.01, b = 0.01 , max_iter= 10000, stochastic= True,\n",
    "                                            verbose = True, func = val, sub = nup[l])\n",
    "        times[l] += result['time']\n",
    "        func[l] = result['objective_curve'][-1]\n",
    "        iters[l] += result['iter']\n",
    "\n",
    "times = times // 100\n",
    "iters = iters // 100"
   ]
  },
  {
   "cell_type": "code",
   "execution_count": 269,
   "metadata": {
    "collapsed": false
   },
   "outputs": [],
   "source": [
    "plt.plot(nup, iters, '-r')\n",
    "plt.xlabel('Part of ruled object in step')\n",
    "plt.ylabel('Amount of iterations')\n",
    "plt.title('Speed of stochastic method')\n",
    "plt.legend(['iterations'], loc='upper right')\n",
    "plt.yscale('log')\n",
    "plt.savefig(direct + 'stochastic.pdf')\n",
    "plt.show()"
   ]
  },
  {
   "cell_type": "code",
   "execution_count": 275,
   "metadata": {
    "collapsed": false
   },
   "outputs": [
    {
     "data": {
      "text/plain": [
       "array([ 258.,  178.,  139.])"
      ]
     },
     "execution_count": 275,
     "metadata": {},
     "output_type": "execute_result"
    }
   ],
   "source": [
    "iters[[25, 39, 49]]"
   ]
  },
  {
   "cell_type": "code",
   "execution_count": 276,
   "metadata": {
    "collapsed": false
   },
   "outputs": [
    {
     "data": {
      "text/plain": [
       "1553.0"
      ]
     },
     "execution_count": 276,
     "metadata": {},
     "output_type": "execute_result"
    }
   ],
   "source": [
    "iters[9]"
   ]
  },
  {
   "cell_type": "code",
   "execution_count": null,
   "metadata": {
    "collapsed": true
   },
   "outputs": [],
   "source": []
  }
 ],
 "metadata": {
  "kernelspec": {
   "display_name": "Python 3",
   "language": "python",
   "name": "python3"
  },
  "language_info": {
   "codemirror_mode": {
    "name": "ipython",
    "version": 3
   },
   "file_extension": ".py",
   "mimetype": "text/x-python",
   "name": "python",
   "nbconvert_exporter": "python",
   "pygments_lexer": "ipython3",
   "version": "3.5.0"
  }
 },
 "nbformat": 4,
 "nbformat_minor": 0
}
