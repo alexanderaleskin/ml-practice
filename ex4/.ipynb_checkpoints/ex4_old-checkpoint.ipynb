{
 "cells": [
  {
   "cell_type": "markdown",
   "metadata": {},
   "source": [
    "# Задание 4. Методы восстановления плотности распределений в задачевычитания фона\n",
    "Выполнил Алескин Александр, 317 группа"
   ]
  },
  {
   "cell_type": "code",
   "execution_count": null,
   "metadata": {
    "collapsed": true
   },
   "outputs": [],
   "source": [
    "def predict6(means, stds, test_video, k = 3):\n",
    "    \"\"\"\n",
    "    decide that is fone if N(x | means1, stds1) > rule\n",
    "                        or N(x | means2, stds2) > rule\n",
    "    \"\"\"\n",
    "    shape = stds.shape\n",
    "    I = np.eye(stds[0].shape[1])\n",
    "    L = np.empty(stds.shape)\n",
    "    for j in range(stds.shape[0]):\n",
    "        L[0, j] = np.linalg.cholesky(stds[0, j, :, :])\n",
    "        L[0, j] = sp.linalg.solve_triangular(L[0, j].T, I)\n",
    "        L[1, j] = np.linalg.cholesky(stds[1, j, :, :])\n",
    "        L[1, j] = sp.linalg.solve_triangular(L[1, j].T, I)\n",
    "    maska = np.empty((test_video.shape[0], test_video.shape[1], 1), dtype = np.bool)\n",
    "    rule = k**3 \n",
    "    for i in range(test_video.shape[0]):\n",
    "        dX = test[i] - means[0]\n",
    "        r1 = dX * L[0, :, 0, :]\n",
    "        r1 = r1 + dX * L[0, :, 1, :]\n",
    "        r1 = r1 + dX * L[0, :, 2, :]\n",
    "        maska[i, :, 0] =  np.sum(r1 ** 2, axis = 1) > rule\n",
    "        g2 = maska[i, :, 0] == False\n",
    "        dX = test[i, g2] - means[1]\n",
    "        r1 = dX * L[1, :, 0, :]\n",
    "        r1 = r1 + dX * L[1, :, 1, :]\n",
    "        r1 = r1 + dX * L[1, :, 2, :]\n",
    "        maska[i, g2, 0] =  np.sum(r1 ** 2, axis = 1) > rule\n",
    "    return maska"
   ]
  },
  {
   "cell_type": "code",
   "execution_count": null,
   "metadata": {
    "collapsed": true
   },
   "outputs": [],
   "source": [
    "def training(train_video, g = 1):\n",
    "    \"\"\"\n",
    "    g - amount of gaussians\n",
    "    \n",
    "    \"\"\"\n",
    "    shape = train_video[0].shape\n",
    "    rows = shape[0]\n",
    "    size = shape[1]\n",
    "    means = np.zeros((g, rows, size))\n",
    "    stds = np.zeros((g, rows, size, size))\n",
    "    # несколько начальных приближений не будем делать, ибо сложного случая не должно быть\n",
    "    w = np.ones(g) / g\n",
    "    means0 = np.ones((g,size)) * 128 + np.random.rand(g, size)\n",
    "    stds0 = np.empty((g, size, size))\n",
    "    stds0[:, :, :] = np.eye(size) * 3\n",
    "    start = [{\n",
    "                'w' : w,\n",
    "                'means' : means0,\n",
    "                'stds' : stds0\n",
    "            }]\n",
    "    \n",
    "    for i in range(rows):\n",
    "        X = train_video[:, i, :]\n",
    "        ans = EM(X, start)['best']\n",
    "        means[:, i, :] = ans['means']\n",
    "        stds[:, i, :, :] = ans['stds']\n",
    "    return means, stds"
   ]
  },
  {
   "cell_type": "code",
   "execution_count": null,
   "metadata": {
    "collapsed": true
   },
   "outputs": [],
   "source": []
  },
  {
   "cell_type": "code",
   "execution_count": null,
   "metadata": {
    "collapsed": true
   },
   "outputs": [],
   "source": [
    "## загрузка видео(набора фотографий)\n",
    "# можно выбирать сегмент. \n",
    "def load(path, make_binary = False, from_p = None, to_p = None, xc = None, yc = None):\n",
    "    \"\"\"\n",
    "    path - path to video\n",
    "    make_binary - make binary if image is color\n",
    "    from_p - load picture from from_p position after sorting images\n",
    "    to_p - load picture to to_p position\n",
    "    xc, yc - coordinates of pixels with interest\n",
    "    \n",
    "    \"\"\"\n",
    "\n",
    "    pictures_list = os.listdir(path)\n",
    "    pictures_list.sort()\n",
    "    if from_p is None:\n",
    "        from_p = 0\n",
    "    if to_p is None:\n",
    "        to_p = len(pictures_list)\n",
    "\n",
    "    image = sp.ndimage.imread(path + pictures_list[0])\n",
    "    shape = image.shape\n",
    "    if xc is None:\n",
    "        xc, yc = np.meshgrid(np.arange(shape[0]), np.arange(shape[1]))\n",
    "    elif yc is None:\n",
    "        raise Error('forgot yc!')\n",
    "    xc = xc.ravel()\n",
    "    yc = yc.ravel()\n",
    "    size = len(xc)\n",
    "    color = len(shape) == 3\n",
    "    out3 = not make_binary and color \n",
    "    if out3:\n",
    "        video = np.empty((to_p - from_p, size, shape[2]), dtype = image.dtype)\n",
    "    else:\n",
    "        video = np.empty((to_p - from_p, size, 1), dtype = image.dtype)\n",
    "    j = 0\n",
    "    for i in range(from_p, to_p):\n",
    "        image = sp.ndimage.imread(path + pictures_list[i])\n",
    "        if color and make_binary:\n",
    "            image = 0.2126 * image[:, :, 0] + 0.7152 * image[:, :, 1] + 0.0722 * image[:, :, 2]\n",
    "        if out3:\n",
    "            video[j, :, :] = image[xc, yc, :] \n",
    "        else:\n",
    "            video[j, :, 0] = image[xc, yc]\n",
    "        j += 1\n",
    "    return video\n",
    "\n",
    "\n",
    "# обучение\n",
    "def training(train_video, g = 1):\n",
    "    \"\"\"\n",
    "    g - amount of gaussians\n",
    "    \n",
    "    \"\"\"\n",
    "    shape = train_video[0].shape\n",
    "    rows = shape[0]\n",
    "    size = shape[1]\n",
    "    means = np.zeros(shape)\n",
    "    stds = np.zeros(shape)\n",
    "    # несколько начальных приближений не будем делать, ибо сложного случая не должно быть\n",
    "    w = np.ones(size) / size\n",
    "    means0 = np.ones((g,size)) * 128 + np.random.rand(g, size)\n",
    "    stds0 = np.empty((g, size, size))\n",
    "    stds0[:, :, :] = np.eye(size) * 3\n",
    "    start = [{\n",
    "                'w' : w,\n",
    "                'means' : means0,\n",
    "                'stds' : stds0\n",
    "            }]\n",
    "    for i in range(rows):\n",
    "        X = train_video[:, i, :]\n",
    "        ans = EM(X, start)['best']\n",
    "        means[i] = ans['means']\n",
    "        stds[i] = ans['stds']\n",
    "    return means, stds\n",
    "\n",
    "# предсказание\n",
    "def predict3(means, stds, test_video, k = 3):\n",
    "    \"\"\"\n",
    "    k - parameter for decision rule : |x - mean| < (k * std)\n",
    "    \n",
    "    \"\"\"\n",
    "    shape = stds.shape\n",
    "    stds_trunc = np.maximum(stds, np.ones(shape, dtype = int) * 3) * k\n",
    "    maska = np.empty(test_video.shape[:3], dtype = np.bool)\n",
    "    for i in range(test_video.shape[0]):\n",
    "        maska = np.abs(test_video - means) > stds_trunc\n",
    "    return maska\n",
    "\n",
    "#демонстрация видео\n",
    "def movie(path, maska, from_p, to_p, xc, yc):\n",
    "    pictures_list = os.listdir(path)\n",
    "    image = sp.ndimage.imread(path + pictures_list[0])\n",
    "    shape = image.shape\n",
    "    video = load(path, False, from_p, to_p)\n",
    "    frames = video.shape[0]\n",
    "    video.shape = (frames, shape[0], shape[1], 3)\n",
    "    maska_all = np.zeros((frames, shape[0], shape[1]), dtype = np.bool)\n",
    "    # print(maska_all.shape, maska.shape)\n",
    "    for i in range(frames):\n",
    "        maska_all[i, xc, yc] = maska[i, :, 0] #.reshape(shape).T\n",
    "    mv = vs.make_video(video, maska_all)\n",
    "    return mv\n",
    "    \n",
    "\n",
    "# вывод\n",
    "def graffics(predict, y_true, from_frame = 1):\n",
    "    frames = y_true.shape[0]\n",
    "    if frames != predict.shape[0]:\n",
    "        raise IndexError('different sizes of frames')\n",
    "    FP = np.zeros(frames)\n",
    "    FN = np.zeros(frames)\n",
    "    ROC = np.zeros(frames)\n",
    "    for i in range(frames):\n",
    "        pixels = (y_true[i] == 0) | (y_true[i] == 255)\n",
    "        size = pixels.size\n",
    "        FP[i] = np.sum((y_true[i, pixels] == 0) & (y_true[i, pixels] != predict[i, pixels])) / size\n",
    "        FN[i] = np.sum((y_true[i, pixels] == 255) & (y_true[i, pixels] != predict[i, pixels])) / size\n",
    "        try:\n",
    "            ROC[i] = roc_auc_score(np.ravel(np.bool8(y_true[i, pixels])), np.ravel(predict[i, pixels]))\n",
    "        except ValueError:\n",
    "            ROC[i] = 0\n",
    "    plt.figure(figsize= (10,8))\n",
    "    plt.plot(np.arange(frames) + from_frame, FP, '-')\n",
    "    plt.plot(np.arange(frames) + from_frame, FN, '-')\n",
    "    plt.plot(np.arange(frames) + from_frame, ROC, '-')\n",
    "    plt.title('Ratings of algorithm')\n",
    "    plt.legend(['FP', 'FN', 'AUC-ROC'], loc='upper left')\n",
    "    #plt.xticks(range(len(n_features)), n_features)\n",
    "    plt.ylim((-0.1, 1.2))\n",
    "    plt.ylabel('share')\n",
    "    plt.xlabel('number of frame')\n",
    "    plt.grid(True)\n",
    "    return FP, FN, ROC"
   ]
  },
  {
   "cell_type": "code",
   "execution_count": 2,
   "metadata": {
    "collapsed": false
   },
   "outputs": [],
   "source": [
    "import numpy as np\n",
    "import scipy as sp\n",
    "from scipy import linalg # просто так почему-то не видет\n",
    "import time"
   ]
  },
  {
   "cell_type": "markdown",
   "metadata": {},
   "source": [
    "### 1. Реализовать ЕМ-алгоритм для восстановления смеси многомерных нормальных распределений. \n",
    "Требования по эффективности реализации: среднее время одной итерации не должно превышать одной секунды."
   ]
  },
  {
   "cell_type": "markdown",
   "metadata": {},
   "source": [
    "#### Функция, выполняющая ЕМ-алгоритм. \n",
    "На вход принимает:\n",
    "\n",
    "1. матрицу $ X_{(N, d)} $, где $ N $ - число элементов, $ d $ - размерность пространства,\n",
    "2. список из словарей start_vals, где каждый словарь описывает 1 начальное приближение, \n",
    "3. точность вычислений.\n",
    "\n",
    "Выход: словарь из:\n",
    "\n",
    "1. списка словарей из параметров $ w $, $\\mu $ , $\\sum$, количества итераций, значения логарифма правдоподобия и принадлежность элемента к классу.\n",
    "2. наилучшее приближение"
   ]
  },
  {
   "cell_type": "code",
   "execution_count": 2,
   "metadata": {
    "collapsed": false
   },
   "outputs": [],
   "source": [
    "def EM(X, start_vals, tol = 1e-10):\n",
    "    answer = []\n",
    "    best = {'log_like': -1e20}\n",
    "    for i in range(len(start_vals)):\n",
    "        w     = start_vals[i]['w'].copy()\n",
    "        means = start_vals[i]['means'].copy()\n",
    "        stds  = start_vals[i]['stds'].copy()\n",
    "        gaussians = w.shape[0]\n",
    "        N = X.shape[0]\n",
    "        dets = np.zeros((1, gaussians))\n",
    "        exps = np.zeros((N, gaussians))\n",
    "        I = np.eye(stds.shape[1])\n",
    "        I2 = I * 1e-4\n",
    "        work = True\n",
    "        l_last = -1e10 * N\n",
    "        l_curr = 0.0\n",
    "        it = 0\n",
    "        while work:\n",
    "            for k in range(gaussians):\n",
    "                L = np.linalg.cholesky(stds[k])\n",
    "                dets[0, k] = np.multiply.reduce(L.diagonal()) ** 2\n",
    "                exps[:, k] = - 0.5 * np.sum((X - means[k]).dot(sp.linalg.solve_triangular(L.T, I)) ** 2, axis = 1)\n",
    "            maxs = np.max(exps, axis = 1)[np.newaxis].T\n",
    "            exps = exps - maxs\n",
    "            coefs = np.exp(exps)* w / dets\n",
    "            sum_coefs = np.sum(coefs, axis = 1)[np.newaxis].T\n",
    "            coefs = coefs / sum_coefs\n",
    "            w = np.sum(coefs, axis = 0)\n",
    "            for k in range(gaussians):\n",
    "                means[k] = np.sum(coefs[:, k][np.newaxis].T * X, axis = 0) / w[k]\n",
    "                dX = X - means[k]\n",
    "                stds[k] = dX.T.dot(coefs[:, k][np.newaxis].T * dX) / w[k] + I2\n",
    "            w = w / N\n",
    "            l_curr = np.sum(np.log(sum_coefs), axis = 0)\n",
    "            work = l_curr - l_last > tol * N or it < 2\n",
    "            it = it + 1\n",
    "            l_last = l_curr\n",
    "        dic = {\n",
    "                'w': w,\n",
    "                'means': means,\n",
    "                'stds': stds,\n",
    "                'iters': it, \n",
    "                'log_like': l_curr,\n",
    "                'сlass': np.argmax(coefs, axis = 1)\n",
    "              }\n",
    "        answer.append(dic)\n",
    "        if l_curr > best['log_like']:\n",
    "            best = dic\n",
    "    return {'all': answer, 'best': best}"
   ]
  },
  {
   "cell_type": "markdown",
   "metadata": {},
   "source": [
    "##### Убедимся, что алгоритм удовлетворяет требованиям по скорости работы\n",
    "(так как проверяем только временные характеристики, то начальное приближение и массив элементов выберем самым простым способом):"
   ]
  },
  {
   "cell_type": "code",
   "execution_count": 3,
   "metadata": {
    "collapsed": false
   },
   "outputs": [
    {
     "name": "stdout",
     "output_type": "stream",
     "text": [
      "all matrix symmetric and positive:  True\n"
     ]
    }
   ],
   "source": [
    "N = 10000\n",
    "d = 100\n",
    "g = 10\n",
    "X = np.random.rand(N, d)\n",
    "w = np.ones(g) / g\n",
    "means = np.random.rand(g, d)\n",
    "stds = np.random.rand(g, d, d) / 100 + np.eye(d) / 2\n",
    "vals = True\n",
    "for i in range(g):\n",
    "    stds[i] += stds[i].T\n",
    "    vals = vals & np.all(np.linalg.eigvals(stds[i]) > 0) # проверим, что положительные \n",
    "print('all matrix symmetric and positive: ', vals)\n",
    "start = [{\n",
    "            'w' : w,\n",
    "            'means' : means,\n",
    "            'stds' : stds\n",
    "        }]"
   ]
  },
  {
   "cell_type": "code",
   "execution_count": 4,
   "metadata": {
    "collapsed": false
   },
   "outputs": [
    {
     "name": "stdout",
     "output_type": "stream",
     "text": [
      "average time of 1 iteration in seconds:  1.0457104576958551\n"
     ]
    }
   ],
   "source": [
    "t = - time.time()\n",
    "ans = EM(X, start, tol = 1e-2)\n",
    "t = t + time.time()\n",
    "print('average time of 1 iteration in seconds: ', t / ans['best']['iters'] )"
   ]
  },
  {
   "cell_type": "markdown",
   "metadata": {},
   "source": [
    "Алгоритм незначительно медленнее работает требуемой скорости.  "
   ]
  },
  {
   "cell_type": "markdown",
   "metadata": {
    "collapsed": true
   },
   "source": [
    "### 2. Провести тестирование реализованного ЕМ-алгоритма на двумерных модельных данных."
   ]
  },
  {
   "cell_type": "markdown",
   "metadata": {},
   "source": [
    "##### 2.1 Восстановление параметров смеси с помощью ЕМ-алгоритма.\n"
   ]
  },
  {
   "cell_type": "code",
   "execution_count": 1,
   "metadata": {
    "collapsed": false
   },
   "outputs": [],
   "source": [
    "import matplotlib.pyplot as plt\n",
    "from matplotlib.patches import Ellipse\n",
    "%matplotlib inline"
   ]
  },
  {
   "cell_type": "code",
   "execution_count": 8,
   "metadata": {
    "collapsed": false
   },
   "outputs": [
    {
     "name": "stderr",
     "output_type": "stream",
     "text": [
      "/home/alex/anaconda3/lib/python3.5/site-packages/ipykernel/__main__.py:7: RuntimeWarning: covariance is not positive-semidefinite.\n"
     ]
    }
   ],
   "source": [
    "N = 1000\n",
    "d = 2\n",
    "g = 2\n",
    "mean0 = np.array([[5, 5], [-1, -1]], dtype = float)\n",
    "std0 = np.array([[[1, 2], [2, 1]],\n",
    "                 [[4, 0], [0, 1]]])\n",
    "X1 = np.random.multivariate_normal(mean0[0], std0[0], N // 4)\n",
    "X2 = np.random.multivariate_normal(mean0[1], std0[1], N // 4 * 3)\n",
    "X  = np.vstack((X1, X2))\n",
    "\n",
    "x_min = np.min(X, axis = 0)\n",
    "x_max = np.max(X, axis = 0)\n",
    "dx_max = x_max - x_min\n",
    "\n",
    "# начальное приближение\n",
    "w = np.ones(g) / g\n",
    "means = np.random.normal(0, 0.3, (g, d)) * dx_max\n",
    "stds = np.zeros((g, d, d))\n",
    "for i in range(g):\n",
    "    stds[i] = np.eye(d) * dx_max / 6\n",
    "    \n",
    "start = [{\n",
    "            'w': w,\n",
    "            'means': means,\n",
    "            'stds': stds\n",
    "        }]"
   ]
  },
  {
   "cell_type": "code",
   "execution_count": 81,
   "metadata": {
    "collapsed": false
   },
   "outputs": [
    {
     "data": {
      "text/plain": [
       "array([[ 2. ,  0.5],\n",
       "       [ 0.5,  2. ]])"
      ]
     },
     "execution_count": 81,
     "metadata": {},
     "output_type": "execute_result"
    }
   ],
   "source": []
  },
  {
   "cell_type": "code",
   "execution_count": 9,
   "metadata": {
    "collapsed": false
   },
   "outputs": [
    {
     "name": "stderr",
     "output_type": "stream",
     "text": [
      "/home/alex/anaconda3/lib/python3.5/site-packages/ipykernel/__main__.py:10: RuntimeWarning: divide by zero encountered in double_scalars\n",
      "/home/alex/anaconda3/lib/python3.5/site-packages/matplotlib/collections.py:590: FutureWarning: elementwise comparison failed; returning scalar instead, but in the future will perform elementwise comparison\n",
      "  if self._edgecolors == str('face'):\n"
     ]
    },
    {
     "data": {
      "image/png": "[encoded data removed]",
      "text/plain": [
       "<matplotlib.figure.Figure at 0xa871aeec>"
      ]
     },
     "metadata": {},
     "output_type": "display_data"
    }
   ],
   "source": [
    "plt.figure(figsize = (7,5))\n",
    "splot = plt.subplot(1, 1, 1)\n",
    "colors = ['r', 'b']\n",
    "Y_ = np.hstack((np.zeros(N // 4), np.ones(N // 4 * 3)))\n",
    "for i in range(2):\n",
    "    v, w = linalg.eigh(std0[i])\n",
    "    u = w[0] / linalg.norm(w[0])\n",
    "    plt.scatter(X[Y_ == i, 0], X[Y_ == i, 1], .8, color=colors[i])\n",
    "\n",
    "    angle = np.arctan(u[1] / u[0])\n",
    "    angle = 180 * angle / np.pi  \n",
    "    ell = Ellipse(mean0[i], v[0], v[1], 180 + angle, color=colors[i])\n",
    "    ell.set_clip_box(splot.bbox)\n",
    "    ell.set_alpha(0.4)\n",
    "    splot.add_artist(ell)\n"
   ]
  },
  {
   "cell_type": "code",
   "execution_count": 76,
   "metadata": {
    "collapsed": false
   },
   "outputs": [
    {
     "data": {
      "text/plain": [
       "(-10, 10)"
      ]
     },
     "execution_count": 76,
     "metadata": {},
     "output_type": "execute_result"
    },
    {
     "data": {
      "image/png": "[encoded data removed]",
      "text/plain": [
       "<matplotlib.figure.Figure at 0xa84b770c>"
      ]
     },
     "metadata": {},
     "output_type": "display_data"
    }
   ],
   "source": [
    "e = Ellipse([0, 0], 1, 2, angle = 45, lw = 2, color = (1, 1, 1))\n",
    "fig = plt.figure(figsize = (7,7))\n",
    "ax = fig.add_subplot(111, aspect='equal')\n",
    "ax.add_artist(e)\n",
    "e.set_ec((0, 1, 0))\n",
    "\n",
    "ax.set_xlim(-10, 10)\n",
    "ax.set_ylim(-10, 10)"
   ]
  },
  {
   "cell_type": "code",
   "execution_count": 99,
   "metadata": {
    "collapsed": false
   },
   "outputs": [
    {
     "data": {
      "text/plain": [
       "[]"
      ]
     },
     "execution_count": 99,
     "metadata": {},
     "output_type": "execute_result"
    },
    {
     "data": {
      "image/png": "[encoded data removed]",
      "text/plain": [
       "<matplotlib.figure.Figure at 0xa86e6d6c>"
      ]
     },
     "metadata": {},
     "output_type": "display_data"
    }
   ],
   "source": [
    "plt.figure(figsize = (7,7))\n",
    "plt.plot()"
   ]
  },
  {
   "cell_type": "code",
   "execution_count": 17,
   "metadata": {
    "collapsed": false
   },
   "outputs": [
    {
     "data": {
      "text/plain": [
       "{'all': [{'iters': 48,\n",
       "   'log_like': array([-1847.08190253]),\n",
       "   'means': array([[ 1.05913273,  0.98266296],\n",
       "          [ 4.97913796,  5.05943715]]),\n",
       "   'stds': array([[[ 3.87549257,  0.14213712],\n",
       "           [ 0.14213712,  0.95711561]],\n",
       "   \n",
       "          [[ 1.80690572,  0.50104407],\n",
       "           [ 0.50104407,  2.18926237]]]),\n",
       "   'w': array([ 0.74994376,  0.25005624])}],\n",
       " 'best': {'iters': 48,\n",
       "  'log_like': array([-1847.08190253]),\n",
       "  'means': array([[ 1.05913273,  0.98266296],\n",
       "         [ 4.97913796,  5.05943715]]),\n",
       "  'stds': array([[[ 3.87549257,  0.14213712],\n",
       "          [ 0.14213712,  0.95711561]],\n",
       "  \n",
       "         [[ 1.80690572,  0.50104407],\n",
       "          [ 0.50104407,  2.18926237]]]),\n",
       "  'w': array([ 0.74994376,  0.25005624])}}"
      ]
     },
     "execution_count": 17,
     "metadata": {},
     "output_type": "execute_result"
    }
   ],
   "source": [
    "EM(X, start)"
   ]
  },
  {
   "cell_type": "code",
   "execution_count": 78,
   "metadata": {
    "collapsed": false
   },
   "outputs": [
    {
     "data": {
      "image/png": "[encoded data removed]",
      "text/plain": [
       "<matplotlib.figure.Figure at 0xa83ea7cc>"
      ]
     },
     "metadata": {},
     "output_type": "display_data"
    }
   ],
   "source": [
    "import itertools\n",
    "\n",
    "import numpy as np\n",
    "from scipy import linalg\n",
    "import matplotlib.pyplot as plt\n",
    "import matplotlib as mpl\n",
    "\n",
    "from sklearn import mixture\n",
    "from sklearn.externals.six.moves import xrange\n",
    "\n",
    "# Number of samples per component\n",
    "n_samples = 100\n",
    "\n",
    "# Generate random sample following a sine curve\n",
    "np.random.seed(0)\n",
    "X = np.zeros((n_samples, 2))\n",
    "step = 4 * np.pi / n_samples\n",
    "\n",
    "for i in xrange(X.shape[0]):\n",
    "    x = i * step - 6\n",
    "    X[i, 0] = x + np.random.normal(0, 0.1)\n",
    "    X[i, 1] = 3 * (np.sin(x) + np.random.normal(0, .2))\n",
    "\n",
    "\n",
    "color_iter = itertools.cycle(['r', 'g', 'b', 'c', 'm'])\n",
    "\n",
    "\n",
    "for i, (clf, title) in enumerate([\n",
    "        (mixture.GMM(n_components=10, covariance_type='full', n_iter=100),\n",
    "         \"Expectation-maximization\"),\n",
    "        (mixture.DPGMM(n_components=10, covariance_type='full', alpha=0.01,\n",
    "                       n_iter=100),\n",
    "         \"Dirichlet Process,alpha=0.01\"),\n",
    "        (mixture.DPGMM(n_components=10, covariance_type='diag', alpha=100.,\n",
    "                       n_iter=100),\n",
    "         \"Dirichlet Process,alpha=100.\")]):\n",
    "\n",
    "    clf.fit(X)\n",
    "    splot = plt.subplot(3, 1, 1 + i)\n",
    "    Y_ = clf.predict(X)\n",
    "    for i, (mean, covar, color) in enumerate(zip(\n",
    "            clf.means_, clf._get_covars(), color_iter)):\n",
    "        v, w = linalg.eigh(covar)\n",
    "        u = w[0] / linalg.norm(w[0])\n",
    "        # as the DP will not use every component it has access to\n",
    "        # unless it needs it, we shouldn't plot the redundant\n",
    "        # components.\n",
    "\n",
    "\n",
    "        # Plot an ellipse to show the Gaussian component\n",
    "        angle = np.arctan(u[1] / u[0])\n",
    "        angle = 180 * angle / np.pi  # convert to degrees\n",
    "        ell = mpl.patches.Ellipse(mean, v[0], v[1], 180 + angle, color=color)\n",
    "        ell.set_clip_box(splot.bbox)\n",
    "        ell.set_alpha(0.5)\n",
    "        splot.add_artist(ell)\n",
    "\n",
    "    plt.xlim(-6, 4 * np.pi - 6)\n",
    "    plt.ylim(-5, 5)\n",
    "    plt.title(title)\n",
    "    plt.xticks(())\n",
    "    plt.yticks(())\n",
    "\n",
    "plt.show()"
   ]
  },
  {
   "cell_type": "code",
   "execution_count": 85,
   "metadata": {
    "collapsed": false
   },
   "outputs": [
    {
     "data": {
      "image/png": "[encoded data removed]",
      "text/plain": [
       "<matplotlib.figure.Figure at 0xa740c12c>"
      ]
     },
     "metadata": {},
     "output_type": "display_data"
    }
   ],
   "source": [
    "splot = plt.subplot(1, 1, 1 )"
   ]
  },
  {
   "cell_type": "markdown",
   "metadata": {
    "collapsed": true
   },
   "source": [
    "Для удобства опишем все необходимые функции:\n",
    "\n",
    "1. Функция загрузки видео(серии изображений): _load()_\n",
    "2. Функция обучения с применением ЕМ-алгоритма: _training()_\n",
    "3. Функция оценки принадлежности к фону: _predict3()_ (3 -- номер пункта, данная функция для каждого пункта своя)\n",
    "4. Функция анализа результата по средствам визуализации ошибок первого и второго рода, и AUC для каждого кадра: _graffics()_"
   ]
  },
  {
   "cell_type": "code",
   "execution_count": null,
   "metadata": {
    "collapsed": true
   },
   "outputs": [],
   "source": [
    "# загрузка видео(набора фотографий)\n",
    "# можно выбирать сегмент. \n",
    "def load(path, make_binary = False, from_p = None, to_p = None, rectangle_interest = None):\n",
    "    \"\"\"\n",
    "    path - path to video\n",
    "    make_binary - make binary if image is color\n",
    "    from_p - load picture from from_p position after sorting images\n",
    "    to_p - load picture to to_p position\n",
    "    rectangle_interest(ri) - is np.array[2 * 2, int], just switch pixels in \n",
    "    rectangle [ri[0, 0]:ri[1, 0], ri[0, 1]:ri[1, 1]]\n",
    "    \n",
    "    \"\"\"\n",
    "    ri = rectangle_interest\n",
    "    pictures_list = os.listdir(path)\n",
    "    pictures_list.sort()\n",
    "    if from_p == None:\n",
    "        from_p = 0\n",
    "    if to_p == None:\n",
    "        to_p = len(pictures_list)\n",
    "\n",
    "    image = sp.ndimage.imread(path + pictures_list[0])\n",
    "    shape = image.shape\n",
    "    cols = shape[1]\n",
    "    rows = shape[0]\n",
    "    if rectangle_interest != None:\n",
    "        cols = ri[1, 1] - ri[0, 1]\n",
    "        rows = ri[1, 0] - ri[0, 0]\n",
    "    else:\n",
    "        ri = np.zeros((2, 2), dtype = int)\n",
    "        ri[1, 0] = rows\n",
    "        ri[1, 1] = cols\n",
    "    color = len(shape) == 3\n",
    "    if not make_binary and color:\n",
    "        video = np.empty((to_p - from_p, rows, cols, shape[2]), dtype = image.dtype)\n",
    "    else:\n",
    "        video = np.empty((to_p - from_p, rows, cols, 1), dtype = image.dtype)\n",
    "    j = 0\n",
    "    for i in range(from_p, to_p):\n",
    "        image = sp.ndimage.imread(path + pictures_list[i])\n",
    "        if color and make_binary:\n",
    "            image = 0.2126 * image[:, :, 0] + 0.7152 * image[:, :, 1] + 0.0722 * image[:, :, 2]\n",
    "        video[j, :, :, 0] = image[ri[0, 0]:ri[1, 0], ri[0, 1]:ri[1, 1]] \n",
    "        j += 1\n",
    "    return video\n",
    "\n",
    "\n",
    "# обучение\n",
    "def training(train_video):\n",
    "    shape = train_video[0].shape\n",
    "    rows = shape[0]\n",
    "    cols = shape[1]\n",
    "    means = np.zeros(shape)\n",
    "    if (len(shape) == 3):\n",
    "        size = 3\n",
    "        stds = np.zeros(rows, cols, shape[2], shape[2])\n",
    "    else:\n",
    "        size = 1\n",
    "        stds = np.zeros(shape)\n",
    "    # несколько начальных приближений не будем делать, ибо сложного случая не должно быть\n",
    "    w = np.ones(size) / size\n",
    "    mean0 = np.ones(size) * 128\n",
    "    stds0 = np.eye(size) * 3\n",
    "    start = [{\n",
    "                'w' : w,\n",
    "                'means' : means0,\n",
    "                'stds' : stds0\n",
    "            }]\n",
    "    for i in range(rows):\n",
    "        for j in range(cols):\n",
    "            X = train_video[:, i, j, :]\n",
    "            ans = EM(X, start)['best']\n",
    "            means[i, j] = ans['means']\n",
    "            stds[i, j] = ans['stds']\n",
    "    return means, stds\n",
    "\n",
    "# предсказание\n",
    "def predict3(means, stds, test_video, k = 3):\n",
    "    \"\"\"\n",
    "    k - parameter for decision rule : |x - mean| < (k * std)\n",
    "    \n",
    "    \"\"\"\n",
    "    stds_trunc = np.maximum()\n",
    "    return maska\n",
    "\n",
    "# вывод\n",
    "def graffics(predict, answers):\n",
    "    return "
   ]
  },
  {
   "cell_type": "code",
   "execution_count": null,
   "metadata": {
    "collapsed": true
   },
   "outputs": [],
   "source": [
    "path = '/home/alex/prak/ex4/pedestrians/input/'\n",
    "video = load(path)\n",
    "mv = vs.make_video(video, maska)\n",
    "mv()"
   ]
  },
  {
   "cell_type": "code",
   "execution_count": null,
   "metadata": {
    "collapsed": true
   },
   "outputs": [],
   "source": [
    "# загрузка видео(набора фотографий)\n",
    "# можно выбирать сегмент. \n",
    "def load(path, make_binary = False, from_p = None, to_p = None, rectangle_interest = None):\n",
    "    \"\"\"\n",
    "    path - path to video\n",
    "    make_binary - make binary if image is color\n",
    "    from_p - load picture from from_p position after sorting images\n",
    "    to_p - load picture to to_p position\n",
    "    rectangle_interest(ri) - is np.array[2 * 2, int], just switch pixels in \n",
    "    rectangle [ri[0, 0]:ri[1, 0], ri[0, 1]:ri[1, 1]]\n",
    "    \n",
    "    \"\"\"\n",
    "    ri = rectangle_interest\n",
    "    pictures_list = os.listdir(path)\n",
    "    pictures_list.sort()\n",
    "    if from_p == None:\n",
    "        from_p = 0\n",
    "    if to_p == None:\n",
    "        to_p = len(pictures_list)\n",
    "\n",
    "    image = sp.ndimage.imread(path + pictures_list[0])\n",
    "    shape = image.shape\n",
    "    cols = shape[1]\n",
    "    rows = shape[0]\n",
    "    if rectangle_interest != None:\n",
    "        cols = ri[1, 1] - ri[0, 1]\n",
    "        rows = ri[1, 0] - ri[0, 0]\n",
    "    else:\n",
    "        ri = np.zeros((2, 2), dtype = int)\n",
    "        ri[1, 0] = rows\n",
    "        ri[1, 1] = cols\n",
    "    color = len(shape) == 3\n",
    "    if not make_binary and color:\n",
    "        video = np.empty((to_p - from_p, rows, cols, shape[2]), dtype = image.dtype)\n",
    "    else:\n",
    "        video = np.empty((to_p - from_p, rows, cols, 1), dtype = image.dtype)\n",
    "    j = 0\n",
    "    for i in range(from_p, to_p):\n",
    "        image = sp.ndimage.imread(path + pictures_list[i])\n",
    "        if color and make_binary:\n",
    "            image = 0.2126 * image[:, :, 0] + 0.7152 * image[:, :, 1] + 0.0722 * image[:, :, 2]\n",
    "        video[j, :, :, :] = image[ri[0, 0]:ri[1, 0], ri[0, 1]:ri[1, 1]] \n",
    "        j += 1\n",
    "    return video\n",
    "\n",
    "\n",
    "# обучение\n",
    "def training(train_video, g = 1):\n",
    "    \"\"\"\n",
    "    g - amount of gaussians\n",
    "    \n",
    "    \"\"\"\n",
    "    shape = train_video[0].shape\n",
    "    rows = shape[0]\n",
    "    cols = shape[1]\n",
    "    size = shape[2]\n",
    "    means = np.zeros(shape)\n",
    "    stds = np.zeros(shape)\n",
    "    # несколько начальных приближений не будем делать, ибо сложного случая не должно быть\n",
    "    w = np.ones(size) / size\n",
    "    means0 = np.ones((g,size)) * 128 + np.random.rand(g, size)\n",
    "    stds0 = np.empty((g, size, size))\n",
    "    stds0[:, :, :] = np.eye(size) * 3\n",
    "    start = [{\n",
    "                'w' : w,\n",
    "                'means' : means0,\n",
    "                'stds' : stds0\n",
    "            }]\n",
    "    for i in range(rows):\n",
    "        for j in range(cols):\n",
    "            X = train_video[:, i, j, :]\n",
    "            ans = EM(X, start)['best']\n",
    "            means[i, j] = ans['means']\n",
    "            stds[i, j] = ans['stds']\n",
    "    return means, stds\n",
    "\n",
    "# предсказание\n",
    "def predict(means, stds, test_video, k = 3):\n",
    "    \"\"\"\n",
    "    k - parameter for decision rule : |x - mean| < (k * std)\n",
    "    \n",
    "    \"\"\"\n",
    "    shape = stds.shape\n",
    "    stds_trunc = np.maximum(stds, np.ones(shape, dtype = int) * 3) * k\n",
    "    maska = np.empty(test_video.shape[:3], dtype = np.bool)\n",
    "    for i in range(test_video.shape[0]):\n",
    "        maska = np.abs(test_video - means) > stds_trunc\n",
    "    return maska\n",
    "\n",
    "# вывод\n",
    "def graffics(predict, y_true):\n",
    "    frames = y_true.shape[0]\n",
    "    size = y_true[0].size\n",
    "    FP = np.zeros(frames)\n",
    "    FN = np.zeros(frames)\n",
    "    roc = np.zeros(frames)\n",
    "    for i in range(frames):\n",
    "        FP[i] = np.sum(y_true[i] == 0 and y_true[i] != predict[i])\n",
    "        FN[i] = np.sum(y_true[i] == 1 and y_true[i] != predict[i])\n",
    "        roc[i] = roc_auc_score(np.ravel(y_true[i]), np.ravel(predict[i]))\n",
    "    \n",
    "    return"
   ]
  },
  {
   "cell_type": "code",
   "execution_count": null,
   "metadata": {
    "collapsed": true
   },
   "outputs": [],
   "source": []
  }
 ],
 "metadata": {
  "kernelspec": {
   "display_name": "Python 3",
   "language": "python",
   "name": "python3"
  },
  "language_info": {
   "codemirror_mode": {
    "name": "ipython",
    "version": 3
   },
   "file_extension": ".py",
   "mimetype": "text/x-python",
   "name": "python",
   "nbconvert_exporter": "python",
   "pygments_lexer": "ipython3",
   "version": "3.5.0"
  }
 },
 "nbformat": 4,
 "nbformat_minor": 0
}
